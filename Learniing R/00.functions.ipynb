{
 "cells": [
  {
   "cell_type": "markdown",
   "id": "ddfde981",
   "metadata": {},
   "source": [
    "# Functions"
   ]
  },
  {
   "cell_type": "code",
   "execution_count": 11,
   "id": "88a85be3",
   "metadata": {},
   "outputs": [],
   "source": [
    "# functions are mini programs built in that help you carry out tasks\n",
    "x <- 2\n",
    "y <- 3\n",
    "greeting <- \"Hello\"\n",
    "name <- \"Yusuf\"\n",
    "fruits <- c('mango', 'apple', 'guava', 'agbalumo')\n",
    "scores <- c(98, 46, 67, 83, 49, 61, 94, 57)\n",
    "square <- matrix(1:24, nrow=4)"
   ]
  },
  {
   "cell_type": "code",
   "execution_count": 3,
   "id": "33dae81b",
   "metadata": {},
   "outputs": [
    {
     "data": {
      "text/plain": [
       "[1] \"numeric\""
      ]
     },
     "execution_count": null,
     "metadata": {},
     "output_type": "execute_result"
    }
   ],
   "source": [
    "#fucntions we have already seen\n",
    "class(x)"
   ]
  },
  {
   "cell_type": "code",
   "execution_count": 4,
   "id": "e51ee869",
   "metadata": {},
   "outputs": [
    {
     "data": {
      "text/plain": [
       "[1] 4"
      ]
     },
     "execution_count": null,
     "metadata": {},
     "output_type": "execute_result"
    }
   ],
   "source": [
    "length(fruits)"
   ]
  },
  {
   "cell_type": "code",
   "execution_count": 8,
   "id": "4ffa017f",
   "metadata": {},
   "outputs": [
    {
     "data": {
      "text/plain": [
       "[1] 4"
      ]
     },
     "execution_count": null,
     "metadata": {},
     "output_type": "execute_result"
    }
   ],
   "source": [
    "nrow(square)"
   ]
  },
  {
   "cell_type": "code",
   "execution_count": 9,
   "id": "cc6c008f",
   "metadata": {},
   "outputs": [
    {
     "data": {
      "text/plain": [
       "[1] 6"
      ]
     },
     "execution_count": null,
     "metadata": {},
     "output_type": "execute_result"
    }
   ],
   "source": [
    "ncol(square)"
   ]
  },
  {
   "cell_type": "code",
   "execution_count": 10,
   "id": "42c960c8",
   "metadata": {},
   "outputs": [
    {
     "name": "stdout",
     "output_type": "stream",
     "text": [
      "[1] 2\n"
     ]
    }
   ],
   "source": [
    "print(x)"
   ]
  },
  {
   "cell_type": "code",
   "execution_count": 12,
   "id": "88947652",
   "metadata": {},
   "outputs": [
    {
     "data": {
      "text/plain": [
       "[1] \"Hello Yusuf\""
      ]
     },
     "execution_count": null,
     "metadata": {},
     "output_type": "execute_result"
    }
   ],
   "source": [
    "paste(greeting, name)"
   ]
  },
  {
   "cell_type": "code",
   "execution_count": 13,
   "id": "25166b4e",
   "metadata": {},
   "outputs": [
    {
     "data": {
      "text/plain": [
       "[1] \"HelloYusuf\""
      ]
     },
     "execution_count": null,
     "metadata": {},
     "output_type": "execute_result"
    }
   ],
   "source": [
    "paste0(greeting, name)"
   ]
  },
  {
   "cell_type": "code",
   "execution_count": 14,
   "id": "5fd44d94",
   "metadata": {},
   "outputs": [
    {
     "data": {
      "text/plain": [
       "[1] \"Pass\" \"Fail\" \"Pass\" \"Pass\" \"Fail\" \"Pass\" \"Pass\" \"Pass\""
      ]
     },
     "execution_count": null,
     "metadata": {},
     "output_type": "execute_result"
    }
   ],
   "source": [
    "ifelse(scores > 49, 'Pass', 'Fail')"
   ]
  },
  {
   "cell_type": "code",
   "execution_count": 15,
   "id": "53da2105",
   "metadata": {},
   "outputs": [],
   "source": [
    "nhanes <- read.csv(\"data/nhanes.csv\")"
   ]
  },
  {
   "cell_type": "code",
   "execution_count": 16,
   "id": "4bdd7322",
   "metadata": {},
   "outputs": [
    {
     "data": {
      "text/plain": [
       "   [1] 34  4 16 10 60 26 49  1 10 80 10 80  4 35  9  4 17 13  7 42  0 66  8 45 28  8 11 19\n",
       "  [29]  1 44 66 49 58 54 26 10 32 60 44 18 53  3 58 50 70 65 22  9 27 30 40 80 27 33 60 16\n",
       "  [57] 60  5 11 35  4 56  1 78  0  8 63 57 54 70 38  8 54 27  7 26  6 36 44 17 54 25  2 64\n",
       "  [85] 39 40 26 59 74 80 58 49  7  0 51 17 12 40 16 28 37  8 26 14 55 14 68 28 32 35 25 55\n",
       " [113] 60 52 37  1 50 21 17  8 44 44 40 77 56 80 37  3 78  3 58  1 23 28 13 40 27 31 22  3\n",
       " [141] 29 11 17  6 56 80 60 16 30  6 26 25 30 22 72 36 54 29 23 42 61  5  0 22 17  9 80 31\n",
       " [169] 35 31 13 32 62  2 62 50  1 26  2 58 80 42 53 78 43 35  7  5 12  8 12 44 20 80 56 80\n",
       " [197] 80 70 21 80 23 22 13  1 66 34 42 41 38 48 66  9 51 14  3 36  2 12 19 27 61 50 43  4\n",
       " [225] 52 41 27 46  6 17 75 63 61 44 44  7 11 80 15 76  3 40 74 35 29  7  6 23 10 17 56 63\n",
       " [253]  0 55 75  4 47 11 25 63  9 43 30 22 63 66  3 76 50 70  5 61 16 15 31 30 70 12 46 21\n",
       " [281] 23 52 46 22 43 55  6 48 27  5 10 33 66 16 21 64  9 55 46 24 18 80  7  7 62 80 25 19\n",
       " [309]  1 54 13 14 51 11  9  1 31 28 57 39 42 46  4  0 70 15  9 56 46  2 14  4  4 40 29 31\n",
       " [337]  1 36  0 49 60 10 28 61 45  2  8 32 53 46 55 57 79  2  6  9 11 53 46 22  7 60  7  5\n",
       " [365]  0 30  5 35  2 49 15 72 29 74 13 40 12  0 74  2 12 46  2 49 62 44 49 18 66 36 17  6\n",
       " [393] 18 31  6 32 32 27 16 65  9 29 19 55  8 43  9 77 40 45  0 12  2 19 11 43 11 80 61 62\n",
       " [421] 26  2 18 34  4 18 39 56 43 80 68 14  1 56 49  4  9 10 38 47 26 66  0 80 72 40  1 41\n",
       " [449] 32 80 17 18 60 18 80  6 30 65  5 20 72 61 68  9 79  2 52  4 35 15 61  7 67 27  6 56\n",
       " [477] 56 10 12 62 74 16 50 48  2 66 48 52 63 58 13 43 29 40 10 67 25  6 67 18 45 56 55 50\n",
       " [505] 13 74 30 38  3 17 61 74  6 55 46  5 23 12 10  8 21 29 62  0 42 60 14 31 70 38 56 12\n",
       " [533] 12 53 12 45 73 80 61  9 74  3 60 47 73  5  5  0 58 54 69 64 11 17  5 40 29 44 58 28\n",
       " [561] 49 33 12 44 80 13 28 51 73 55 16 46 12 39 45  2  0 22 65 75 20 48 42 67 40  3 15 80\n",
       " [589] 65 53 38 63 64 48 11 12  7 65 39 21  6 17 63 57  2 54  6 56 36 72 80 21  8  5  8 17\n",
       " [617] 10 43 33 76 19 43  7 45 60 43 76 43  0 18 14 80 34 69  3 25  5 20 76 17  4 25 54 80\n",
       " [645] 29  7  9 80 46 61 33 53 50  1  9  5 20 12 54 67 80 16  3  9 39 80 32 29 19 56  1 37\n",
       " [673] 73 17 18 71  0 15 16 78 80 39 19 51 67 29 69 11 24  2 25 52 75 13 42 18 39 80 60 22\n",
       " [701] 41 17 28  0  2  8 13 21 40 51 56 20 16 72 10 65 59 54 19 80 31 24 10 18 57 45 69 80\n",
       " [729] 19  0  9 36 28  8  1 17 28 36 29 49 33 22 49 11 34 69 33 31 62  0  5 67 46 54  7  1\n",
       " [757] 11 61 28  2 59 12 32 22 15 24 20 75 47  2  6 35  6 55 34 80 78 20  8 27  0 14 28 35\n",
       " [785] 54  4 24 56 78 80 30 34 56 73 23 11 12 30 70 80 42 29 21 33 33  7 45 41  2 45 80  0\n",
       " [813] 49 42 13 59  1 54  0  3 71 44 65 24  8  2 63 22  2 80  4  7  0 36 64  0 10  0 58  0\n",
       " [841]  7 11 67 38  9 61  8 46  2 67  3 21  3 36 17 19 39  1 42 20 31 47  3 11  1 15 68 16\n",
       " [869] 80 42 78  3 60 78 13 54  8 38 11 75  0 11  8  7  2 54 77 27  7 73 12 10 50 54  8 16\n",
       " [897]  5  0  1 52 54 65  4 14  6 19 51  5 80 14  9 43  6 52 37 59 13 51 19 59  0 58  9 80\n",
       " [925] 24 64 68 15 29 75 31 17 39 62 17  8 52 65 30 35 70 51 70 25  4 26 32 71 62 29  0 49\n",
       " [953] 72 78 15 69 11 59  0 64 39 36 64 72  0 52  9 63 54 72  1 48  2 69  2 24  4  0 64 80\n",
       " [981]  7 60 75 52 60 51 10 50 18  1 25  5 16 70  6 78  8 35  2 18\n",
       " [ reached getOption(\"max.print\") -- omitted 19293 entries ]"
      ]
     },
     "execution_count": null,
     "metadata": {},
     "output_type": "execute_result"
    }
   ],
   "source": [
    "with(nhanes, Age)"
   ]
  },
  {
   "cell_type": "code",
   "execution_count": 17,
   "id": "b483c62a",
   "metadata": {},
   "outputs": [
    {
     "data": {
      "text/plain": [
       "   Min. 1st Qu.  Median    Mean 3rd Qu.    Max. \n",
       "  46.00   55.00   64.00   69.38   85.75   98.00 "
      ]
     },
     "execution_count": null,
     "metadata": {},
     "output_type": "execute_result"
    }
   ],
   "source": [
    "# functions for analysis\n",
    "# summary for numeric \n",
    "summary(scores)"
   ]
  },
  {
   "cell_type": "code",
   "execution_count": 18,
   "id": "05754999",
   "metadata": {},
   "outputs": [
    {
     "data": {
      "text/plain": [
       "[1] 46.0 53.0 64.0 88.5 98.0"
      ]
     },
     "execution_count": null,
     "metadata": {},
     "output_type": "execute_result"
    }
   ],
   "source": [
    "fivenum(scores)"
   ]
  },
  {
   "cell_type": "code",
   "execution_count": 19,
   "id": "b1f1a1a7",
   "metadata": {},
   "outputs": [
    {
     "data": {
      "text/plain": [
       "[1] 46"
      ]
     },
     "execution_count": null,
     "metadata": {},
     "output_type": "execute_result"
    }
   ],
   "source": [
    "min(scores)"
   ]
  },
  {
   "cell_type": "code",
   "execution_count": 20,
   "id": "8c07193d",
   "metadata": {},
   "outputs": [
    {
     "data": {
      "text/plain": [
       "[1] 98"
      ]
     },
     "execution_count": null,
     "metadata": {},
     "output_type": "execute_result"
    }
   ],
   "source": [
    "max(scores)"
   ]
  },
  {
   "cell_type": "code",
   "execution_count": 21,
   "id": "3f79717e",
   "metadata": {},
   "outputs": [
    {
     "data": {
      "text/plain": [
       "[1] 69.375"
      ]
     },
     "execution_count": null,
     "metadata": {},
     "output_type": "execute_result"
    }
   ],
   "source": [
    "mean(scores)"
   ]
  },
  {
   "cell_type": "code",
   "execution_count": 22,
   "id": "c55a008a",
   "metadata": {},
   "outputs": [
    {
     "data": {
      "text/plain": [
       "[1] 64"
      ]
     },
     "execution_count": null,
     "metadata": {},
     "output_type": "execute_result"
    }
   ],
   "source": [
    "median(scores)"
   ]
  },
  {
   "cell_type": "code",
   "execution_count": 23,
   "id": "f34c5837",
   "metadata": {},
   "outputs": [
    {
     "data": {
      "text/plain": [
       "[1] 20.0067"
      ]
     },
     "execution_count": null,
     "metadata": {},
     "output_type": "execute_result"
    }
   ],
   "source": [
    "#standard deviation\n",
    "sd(scores)"
   ]
  },
  {
   "cell_type": "code",
   "execution_count": 24,
   "id": "dad5caa6",
   "metadata": {},
   "outputs": [
    {
     "data": {
      "text/plain": [
       "[1] 30.75"
      ]
     },
     "execution_count": null,
     "metadata": {},
     "output_type": "execute_result"
    }
   ],
   "source": [
    "#inter quartile range, Q3 - Q1\n",
    "IQR(scores)"
   ]
  },
  {
   "cell_type": "code",
   "execution_count": 30,
   "id": "62068596",
   "metadata": {},
   "outputs": [
    {
     "data": {
      "text/plain": [
       "  99% \n",
       "97.72 "
      ]
     },
     "execution_count": null,
     "metadata": {},
     "output_type": "execute_result"
    }
   ],
   "source": [
    "#quantiles\n",
    "quantile(scores, 0.99)"
   ]
  },
  {
   "cell_type": "code",
   "execution_count": 31,
   "id": "943aa105",
   "metadata": {},
   "outputs": [
    {
     "data": {
      "text/plain": [
       "[1] 555"
      ]
     },
     "execution_count": null,
     "metadata": {},
     "output_type": "execute_result"
    }
   ],
   "source": [
    "sum(scores)"
   ]
  },
  {
   "cell_type": "code",
   "execution_count": 32,
   "id": "0a3f9cf6",
   "metadata": {},
   "outputs": [
    {
     "data": {
      "text/plain": [
       "[1] 3.142857"
      ]
     },
     "execution_count": null,
     "metadata": {},
     "output_type": "execute_result"
    }
   ],
   "source": [
    "22/7"
   ]
  },
  {
   "cell_type": "code",
   "execution_count": 33,
   "id": "979cc545",
   "metadata": {},
   "outputs": [
    {
     "data": {
      "text/plain": [
       "[1] 3"
      ]
     },
     "execution_count": null,
     "metadata": {},
     "output_type": "execute_result"
    }
   ],
   "source": [
    "round(22/7)"
   ]
  },
  {
   "cell_type": "code",
   "execution_count": 34,
   "id": "4c605e13",
   "metadata": {},
   "outputs": [
    {
     "data": {
      "text/plain": [
       "[1] 3.14"
      ]
     },
     "execution_count": null,
     "metadata": {},
     "output_type": "execute_result"
    }
   ],
   "source": [
    "round(22/7, 2)"
   ]
  },
  {
   "cell_type": "code",
   "execution_count": 35,
   "id": "1b31b8aa",
   "metadata": {},
   "outputs": [
    {
     "data": {
      "image/png": "[encoded data removed]"
     },
     "metadata": {},
     "output_type": "display_data"
    }
   ],
   "source": [
    "# distribution with histogram\n",
    "hist(scores)"
   ]
  },
  {
   "cell_type": "code",
   "execution_count": 36,
   "id": "c9afc3d8",
   "metadata": {},
   "outputs": [
    {
     "data": {
      "image/png": "[encoded data removed]"
     },
     "metadata": {},
     "output_type": "display_data"
    }
   ],
   "source": [
    "# boxplot\n",
    "boxplot(scores)"
   ]
  },
  {
   "cell_type": "code",
   "execution_count": 37,
   "id": "5c35f70c",
   "metadata": {},
   "outputs": [
    {
     "data": {
      "image/png": "[encoded data removed]"
     },
     "metadata": {},
     "output_type": "display_data"
    }
   ],
   "source": [
    "boxplot(scores, horizontal = T)"
   ]
  },
  {
   "cell_type": "code",
   "execution_count": 38,
   "id": "02148db7",
   "metadata": {},
   "outputs": [
    {
     "data": {
      "text/plain": [
       "fruits\n",
       "agbalumo    apple    guava    mango \n",
       "       1        1        1        1 "
      ]
     },
     "execution_count": null,
     "metadata": {},
     "output_type": "execute_result"
    }
   ],
   "source": [
    "#categorical \n",
    "table(fruits)"
   ]
  },
  {
   "cell_type": "code",
   "execution_count": 39,
   "id": "49f54a84",
   "metadata": {},
   "outputs": [
    {
     "data": {
      "text/plain": [
       "fruits\n",
       "agbalumo    apple    guava    mango \n",
       "    0.25     0.25     0.25     0.25 "
      ]
     },
     "execution_count": null,
     "metadata": {},
     "output_type": "execute_result"
    }
   ],
   "source": [
    "prop.table(table(fruits))"
   ]
  },
  {
   "cell_type": "code",
   "execution_count": 43,
   "id": "42387537",
   "metadata": {},
   "outputs": [],
   "source": [
    "fruits_freq = table(fruits)\n",
    "fruits_prop = prop.table(fruits_freq)"
   ]
  },
  {
   "cell_type": "code",
   "execution_count": 41,
   "id": "49f50791",
   "metadata": {},
   "outputs": [
    {
     "data": {
      "text/plain": [
       "fruits\n",
       "agbalumo    apple    guava    mango \n",
       "       1        1        1        1 "
      ]
     },
     "execution_count": null,
     "metadata": {},
     "output_type": "execute_result"
    }
   ],
   "source": [
    "fruits_freq"
   ]
  },
  {
   "cell_type": "code",
   "execution_count": 44,
   "id": "400ca1e7",
   "metadata": {},
   "outputs": [
    {
     "data": {
      "text/plain": [
       "fruits\n",
       "agbalumo    apple    guava    mango \n",
       "    0.25     0.25     0.25     0.25 "
      ]
     },
     "execution_count": null,
     "metadata": {},
     "output_type": "execute_result"
    }
   ],
   "source": [
    "fruits_prop"
   ]
  },
  {
   "cell_type": "code",
   "execution_count": 46,
   "id": "44297289",
   "metadata": {},
   "outputs": [],
   "source": [
    "fruits_percent = fruits_prop * 100"
   ]
  },
  {
   "cell_type": "code",
   "execution_count": 47,
   "id": "ca74b1f1",
   "metadata": {},
   "outputs": [
    {
     "data": {
      "text/plain": [
       "fruits\n",
       "agbalumo    apple    guava    mango \n",
       "      25       25       25       25 "
      ]
     },
     "execution_count": null,
     "metadata": {},
     "output_type": "execute_result"
    }
   ],
   "source": [
    "fruits_percent"
   ]
  },
  {
   "cell_type": "code",
   "execution_count": 49,
   "id": "d65027df",
   "metadata": {},
   "outputs": [],
   "source": [
    "race_freq = table(nhanes$Race1)"
   ]
  },
  {
   "cell_type": "code",
   "execution_count": 50,
   "id": "00bd49a8",
   "metadata": {},
   "outputs": [
    {
     "data": {
      "text/plain": [
       "\n",
       "   Black Hispanic  Mexican    Other    White \n",
       "    4640     2209     3739     2312     7393 "
      ]
     },
     "execution_count": null,
     "metadata": {},
     "output_type": "execute_result"
    }
   ],
   "source": [
    "race_freq"
   ]
  },
  {
   "cell_type": "code",
   "execution_count": 52,
   "id": "6dd41f84",
   "metadata": {},
   "outputs": [],
   "source": [
    "race_prop = prop.table(race_freq)"
   ]
  },
  {
   "cell_type": "code",
   "execution_count": 55,
   "id": "bb363d90",
   "metadata": {},
   "outputs": [],
   "source": [
    "race_percent = race_prop * 100"
   ]
  },
  {
   "cell_type": "code",
   "execution_count": 59,
   "id": "2d2acf87",
   "metadata": {},
   "outputs": [
    {
     "data": {
      "text/plain": [
       "\n",
       "   Black Hispanic  Mexican    Other    White \n",
       "    22.9     10.9     18.4     11.4     36.4 "
      ]
     },
     "execution_count": null,
     "metadata": {},
     "output_type": "execute_result"
    }
   ],
   "source": [
    "round(race_percent, 1) "
   ]
  },
  {
   "cell_type": "code",
   "execution_count": 61,
   "id": "f54bbbba",
   "metadata": {},
   "outputs": [
    {
     "data": {
      "image/png": "[encoded data removed]"
     },
     "metadata": {},
     "output_type": "display_data"
    }
   ],
   "source": [
    "barplot(race_freq)"
   ]
  },
  {
   "cell_type": "code",
   "execution_count": 62,
   "id": "598fa289",
   "metadata": {},
   "outputs": [
    {
     "data": {
      "image/png": "[encoded data removed]"
     },
     "metadata": {},
     "output_type": "display_data"
    }
   ],
   "source": [
    "barplot(race_percent)"
   ]
  },
  {
   "cell_type": "code",
   "execution_count": 73,
   "id": "f88cb811",
   "metadata": {},
   "outputs": [],
   "source": [
    "# ordinal categorical variables in R are referred to as factors\n",
    "ordinal_edu = factor(\n",
    "                  nhanes$Education, \n",
    "                  levels=c('8th Grade', '9 - 11th Grade', 'High School', 'Some College', 'College Grad'), \n",
    "                  ordered = T\n",
    "                )"
   ]
  },
  {
   "cell_type": "code",
   "execution_count": 74,
   "id": "75ae5839",
   "metadata": {},
   "outputs": [
    {
     "data": {
      "text/plain": [
       "ordinal_edu\n",
       "     8th Grade 9 - 11th Grade    High School   Some College   College Grad \n",
       "          1321           1787           2595           3399           2656 "
      ]
     },
     "execution_count": null,
     "metadata": {},
     "output_type": "execute_result"
    }
   ],
   "source": [
    "table(ordinal_edu)"
   ]
  },
  {
   "cell_type": "code",
   "execution_count": 75,
   "id": "71c18357",
   "metadata": {},
   "outputs": [
    {
     "data": {
      "image/png": "[encoded data removed]"
     },
     "metadata": {},
     "output_type": "display_data"
    }
   ],
   "source": [
    "barplot(table(ordinal_edu))"
   ]
  },
  {
   "cell_type": "code",
   "execution_count": null,
   "id": "2d6d7061",
   "metadata": {},
   "outputs": [],
   "source": []
  }
 ],
 "metadata": {
  "language_info": {
   "name": "r"
  }
 },
 "nbformat": 4,
 "nbformat_minor": 5
}
