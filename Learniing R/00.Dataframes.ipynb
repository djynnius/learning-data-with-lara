{
 "cells": [
  {
   "cell_type": "markdown",
   "id": "6c3bd5b3",
   "metadata": {},
   "source": [
    "# Dataframes"
   ]
  },
  {
   "cell_type": "code",
   "execution_count": 2,
   "id": "95a7cd75",
   "metadata": {},
   "outputs": [],
   "source": [
    "# importing a dataframe\n",
    "\n",
    "nhanes <- read.csv(\"data/nhanes.csv\")"
   ]
  },
  {
   "cell_type": "code",
   "execution_count": 3,
   "id": "5e67398d",
   "metadata": {},
   "outputs": [],
   "source": [
    "# Dataframes\n",
    "# Each column is a vector, that means it can only contain one data type\n",
    "# To access a column use the dollar ($) sign eg nhanes$Age or nhanwe$Gender\n",
    "# Each row is a list\n",
    "# Slicing and indexing can be done same as for a matrix"
   ]
  },
  {
   "cell_type": "code",
   "execution_count": 4,
   "id": "9e31c32c",
   "metadata": {},
   "outputs": [
    {
     "data": {
      "text/plain": [
       "   [1] 34  4 16 10 60 26 49  1 10 80 10 80  4 35  9  4 17 13  7 42  0 66  8 45 28  8 11 19\n",
       "  [29]  1 44 66 49 58 54 26 10 32 60 44 18 53  3 58 50 70 65 22  9 27 30 40 80 27 33 60 16\n",
       "  [57] 60  5 11 35  4 56  1 78  0  8 63 57 54 70 38  8 54 27  7 26  6 36 44 17 54 25  2 64\n",
       "  [85] 39 40 26 59 74 80 58 49  7  0 51 17 12 40 16 28 37  8 26 14 55 14 68 28 32 35 25 55\n",
       " [113] 60 52 37  1 50 21 17  8 44 44 40 77 56 80 37  3 78  3 58  1 23 28 13 40 27 31 22  3\n",
       " [141] 29 11 17  6 56 80 60 16 30  6 26 25 30 22 72 36 54 29 23 42 61  5  0 22 17  9 80 31\n",
       " [169] 35 31 13 32 62  2 62 50  1 26  2 58 80 42 53 78 43 35  7  5 12  8 12 44 20 80 56 80\n",
       " [197] 80 70 21 80 23 22 13  1 66 34 42 41 38 48 66  9 51 14  3 36  2 12 19 27 61 50 43  4\n",
       " [225] 52 41 27 46  6 17 75 63 61 44 44  7 11 80 15 76  3 40 74 35 29  7  6 23 10 17 56 63\n",
       " [253]  0 55 75  4 47 11 25 63  9 43 30 22 63 66  3 76 50 70  5 61 16 15 31 30 70 12 46 21\n",
       " [281] 23 52 46 22 43 55  6 48 27  5 10 33 66 16 21 64  9 55 46 24 18 80  7  7 62 80 25 19\n",
       " [309]  1 54 13 14 51 11  9  1 31 28 57 39 42 46  4  0 70 15  9 56 46  2 14  4  4 40 29 31\n",
       " [337]  1 36  0 49 60 10 28 61 45  2  8 32 53 46 55 57 79  2  6  9 11 53 46 22  7 60  7  5\n",
       " [365]  0 30  5 35  2 49 15 72 29 74 13 40 12  0 74  2 12 46  2 49 62 44 49 18 66 36 17  6\n",
       " [393] 18 31  6 32 32 27 16 65  9 29 19 55  8 43  9 77 40 45  0 12  2 19 11 43 11 80 61 62\n",
       " [421] 26  2 18 34  4 18 39 56 43 80 68 14  1 56 49  4  9 10 38 47 26 66  0 80 72 40  1 41\n",
       " [449] 32 80 17 18 60 18 80  6 30 65  5 20 72 61 68  9 79  2 52  4 35 15 61  7 67 27  6 56\n",
       " [477] 56 10 12 62 74 16 50 48  2 66 48 52 63 58 13 43 29 40 10 67 25  6 67 18 45 56 55 50\n",
       " [505] 13 74 30 38  3 17 61 74  6 55 46  5 23 12 10  8 21 29 62  0 42 60 14 31 70 38 56 12\n",
       " [533] 12 53 12 45 73 80 61  9 74  3 60 47 73  5  5  0 58 54 69 64 11 17  5 40 29 44 58 28\n",
       " [561] 49 33 12 44 80 13 28 51 73 55 16 46 12 39 45  2  0 22 65 75 20 48 42 67 40  3 15 80\n",
       " [589] 65 53 38 63 64 48 11 12  7 65 39 21  6 17 63 57  2 54  6 56 36 72 80 21  8  5  8 17\n",
       " [617] 10 43 33 76 19 43  7 45 60 43 76 43  0 18 14 80 34 69  3 25  5 20 76 17  4 25 54 80\n",
       " [645] 29  7  9 80 46 61 33 53 50  1  9  5 20 12 54 67 80 16  3  9 39 80 32 29 19 56  1 37\n",
       " [673] 73 17 18 71  0 15 16 78 80 39 19 51 67 29 69 11 24  2 25 52 75 13 42 18 39 80 60 22\n",
       " [701] 41 17 28  0  2  8 13 21 40 51 56 20 16 72 10 65 59 54 19 80 31 24 10 18 57 45 69 80\n",
       " [729] 19  0  9 36 28  8  1 17 28 36 29 49 33 22 49 11 34 69 33 31 62  0  5 67 46 54  7  1\n",
       " [757] 11 61 28  2 59 12 32 22 15 24 20 75 47  2  6 35  6 55 34 80 78 20  8 27  0 14 28 35\n",
       " [785] 54  4 24 56 78 80 30 34 56 73 23 11 12 30 70 80 42 29 21 33 33  7 45 41  2 45 80  0\n",
       " [813] 49 42 13 59  1 54  0  3 71 44 65 24  8  2 63 22  2 80  4  7  0 36 64  0 10  0 58  0\n",
       " [841]  7 11 67 38  9 61  8 46  2 67  3 21  3 36 17 19 39  1 42 20 31 47  3 11  1 15 68 16\n",
       " [869] 80 42 78  3 60 78 13 54  8 38 11 75  0 11  8  7  2 54 77 27  7 73 12 10 50 54  8 16\n",
       " [897]  5  0  1 52 54 65  4 14  6 19 51  5 80 14  9 43  6 52 37 59 13 51 19 59  0 58  9 80\n",
       " [925] 24 64 68 15 29 75 31 17 39 62 17  8 52 65 30 35 70 51 70 25  4 26 32 71 62 29  0 49\n",
       " [953] 72 78 15 69 11 59  0 64 39 36 64 72  0 52  9 63 54 72  1 48  2 69  2 24  4  0 64 80\n",
       " [981]  7 60 75 52 60 51 10 50 18  1 25  5 16 70  6 78  8 35  2 18\n",
       " [ reached getOption(\"max.print\") -- omitted 19293 entries ]"
      ]
     },
     "execution_count": null,
     "metadata": {},
     "output_type": "execute_result"
    }
   ],
   "source": [
    "# accessing a column\n",
    "nhanes$Age"
   ]
  },
  {
   "cell_type": "code",
   "execution_count": 5,
   "id": "2467a91a",
   "metadata": {},
   "outputs": [
    {
     "data": {
      "text/plain": [
       "   [1] \"male\"   \"male\"   \"male\"   \"male\"   \"female\" \"male\"   \"female\" \"female\" \"male\"  \n",
       "  [10] \"male\"   \"male\"   \"male\"   \"male\"   \"female\" \"male\"   \"male\"   \"male\"   \"male\"  \n",
       "  [19] \"male\"   \"female\" \"male\"   \"male\"   \"male\"   \"female\" \"male\"   \"female\" \"female\"\n",
       "  [28] \"female\" \"female\" \"male\"   \"male\"   \"female\" \"male\"   \"male\"   \"female\" \"female\"\n",
       "  [37] \"male\"   \"female\" \"female\" \"female\" \"female\" \"female\" \"female\" \"male\"   \"female\"\n",
       "  [46] \"female\" \"male\"   \"female\" \"female\" \"female\" \"female\" \"female\" \"male\"   \"male\"  \n",
       "  [55] \"male\"   \"male\"   \"female\" \"female\" \"male\"   \"female\" \"female\" \"female\" \"male\"  \n",
       "  [64] \"male\"   \"male\"   \"female\" \"female\" \"female\" \"male\"   \"female\" \"male\"   \"male\"  \n",
       "  [73] \"male\"   \"male\"   \"male\"   \"female\" \"male\"   \"male\"   \"male\"   \"male\"   \"male\"  \n",
       "  [82] \"female\" \"female\" \"female\" \"female\" \"male\"   \"female\" \"female\" \"female\" \"male\"  \n",
       "  [91] \"male\"   \"male\"   \"female\" \"female\" \"female\" \"male\"   \"male\"   \"female\" \"male\"  \n",
       " [100] \"male\"   \"female\" \"male\"   \"female\" \"female\" \"female\" \"male\"   \"male\"   \"female\"\n",
       " [109] \"male\"   \"male\"   \"male\"   \"female\" \"female\" \"male\"   \"male\"   \"female\" \"female\"\n",
       " [118] \"female\" \"female\" \"male\"   \"female\" \"male\"   \"female\" \"male\"   \"male\"   \"male\"  \n",
       " [127] \"male\"   \"female\" \"female\" \"male\"   \"female\" \"male\"   \"female\" \"female\" \"female\"\n",
       " [136] \"male\"   \"female\" \"female\" \"female\" \"male\"   \"female\" \"female\" \"female\" \"female\"\n",
       " [145] \"female\" \"female\" \"female\" \"female\" \"male\"   \"female\" \"female\" \"male\"   \"male\"  \n",
       " [154] \"female\" \"male\"   \"male\"   \"female\" \"male\"   \"female\" \"male\"   \"male\"   \"male\"  \n",
       " [163] \"male\"   \"female\" \"male\"   \"female\" \"female\" \"male\"   \"male\"   \"female\" \"male\"  \n",
       " [172] \"female\" \"female\" \"female\" \"male\"   \"male\"   \"male\"   \"male\"   \"male\"   \"male\"  \n",
       " [181] \"male\"   \"female\" \"male\"   \"male\"   \"female\" \"female\" \"male\"   \"male\"   \"female\"\n",
       " [190] \"female\" \"female\" \"female\" \"female\" \"female\" \"male\"   \"male\"   \"male\"   \"male\"  \n",
       " [199] \"male\"   \"female\" \"female\" \"male\"   \"female\" \"male\"   \"female\" \"female\" \"female\"\n",
       " [208] \"female\" \"male\"   \"female\" \"female\" \"male\"   \"male\"   \"female\" \"female\" \"male\"  \n",
       " [217] \"male\"   \"female\" \"female\" \"female\" \"female\" \"female\" \"male\"   \"female\" \"male\"  \n",
       " [226] \"female\" \"male\"   \"female\" \"female\" \"male\"   \"male\"   \"male\"   \"female\" \"female\"\n",
       " [235] \"female\" \"male\"   \"female\" \"male\"   \"female\" \"female\" \"male\"   \"female\" \"male\"  \n",
       " [244] \"female\" \"male\"   \"female\" \"female\" \"female\" \"male\"   \"male\"   \"male\"   \"female\"\n",
       " [253] \"female\" \"male\"   \"male\"   \"male\"   \"male\"   \"male\"   \"male\"   \"female\" \"male\"  \n",
       " [262] \"male\"   \"male\"   \"male\"   \"male\"   \"male\"   \"female\" \"male\"   \"male\"   \"female\"\n",
       " [271] \"female\" \"female\" \"female\" \"female\" \"female\" \"female\" \"female\" \"female\" \"male\"  \n",
       " [280] \"male\"   \"male\"   \"female\" \"male\"   \"female\" \"female\" \"male\"   \"male\"   \"male\"  \n",
       " [289] \"female\" \"male\"   \"female\" \"male\"   \"female\" \"male\"   \"male\"   \"female\" \"male\"  \n",
       " [298] \"male\"   \"male\"   \"female\" \"male\"   \"male\"   \"male\"   \"female\" \"female\" \"female\"\n",
       " [307] \"male\"   \"male\"   \"female\" \"male\"   \"male\"   \"male\"   \"female\" \"male\"   \"female\"\n",
       " [316] \"male\"   \"male\"   \"male\"   \"female\" \"female\" \"male\"   \"female\" \"female\" \"female\"\n",
       " [325] \"female\" \"female\" \"female\" \"female\" \"female\" \"female\" \"male\"   \"male\"   \"female\"\n",
       " [334] \"female\" \"male\"   \"male\"   \"male\"   \"female\" \"female\" \"male\"   \"female\" \"male\"  \n",
       " [343] \"female\" \"male\"   \"male\"   \"male\"   \"male\"   \"male\"   \"female\" \"male\"   \"female\"\n",
       " [352] \"male\"   \"male\"   \"male\"   \"female\" \"female\" \"male\"   \"female\" \"male\"   \"female\"\n",
       " [361] \"female\" \"female\" \"male\"   \"male\"   \"female\" \"female\" \"male\"   \"male\"   \"female\"\n",
       " [370] \"female\" \"male\"   \"male\"   \"female\" \"female\" \"male\"   \"male\"   \"male\"   \"female\"\n",
       " [379] \"female\" \"male\"   \"female\" \"female\" \"female\" \"female\" \"female\" \"female\" \"female\"\n",
       " [388] \"male\"   \"female\" \"male\"   \"male\"   \"female\" \"female\" \"male\"   \"female\" \"female\"\n",
       " [397] \"female\" \"female\" \"female\" \"male\"   \"male\"   \"male\"   \"male\"   \"male\"   \"female\"\n",
       " [406] \"female\" \"female\" \"male\"   \"female\" \"female\" \"male\"   \"male\"   \"male\"   \"male\"  \n",
       " [415] \"male\"   \"female\" \"male\"   \"female\" \"male\"   \"male\"   \"female\" \"male\"   \"male\"  \n",
       " [424] \"female\" \"male\"   \"male\"   \"male\"   \"male\"   \"male\"   \"female\" \"female\" \"male\"  \n",
       " [433] \"female\" \"female\" \"male\"   \"female\" \"male\"   \"female\" \"male\"   \"male\"   \"male\"  \n",
       " [442] \"male\"   \"female\" \"female\" \"male\"   \"female\" \"male\"   \"male\"   \"female\" \"female\"\n",
       " [451] \"male\"   \"male\"   \"female\" \"female\" \"male\"   \"male\"   \"male\"   \"male\"   \"female\"\n",
       " [460] \"male\"   \"female\" \"female\" \"male\"   \"male\"   \"female\" \"male\"   \"female\" \"female\"\n",
       " [469] \"female\" \"female\" \"female\" \"male\"   \"female\" \"female\" \"female\" \"male\"   \"male\"  \n",
       " [478] \"female\" \"female\" \"male\"   \"female\" \"male\"   \"female\" \"female\" \"female\" \"male\"  \n",
       " [487] \"female\" \"male\"   \"female\" \"male\"   \"male\"   \"female\" \"male\"   \"male\"   \"female\"\n",
       " [496] \"female\" \"female\" \"male\"   \"male\"   \"female\" \"male\"   \"male\"   \"female\" \"female\"\n",
       " [505] \"male\"   \"male\"   \"female\" \"female\" \"female\" \"male\"   \"male\"   \"male\"   \"female\"\n",
       " [514] \"female\" \"male\"   \"female\" \"female\" \"female\" \"female\" \"female\" \"female\" \"female\"\n",
       " [523] \"male\"   \"female\" \"male\"   \"female\" \"female\" \"female\" \"male\"   \"female\" \"female\"\n",
       " [532] \"female\" \"female\" \"female\" \"female\" \"female\" \"female\" \"female\" \"male\"   \"male\"  \n",
       " [541] \"male\"   \"male\"   \"female\" \"male\"   \"male\"   \"male\"   \"male\"   \"male\"   \"male\"  \n",
       " [550] \"female\" \"male\"   \"female\" \"male\"   \"male\"   \"male\"   \"male\"   \"male\"   \"male\"  \n",
       " [559] \"male\"   \"male\"   \"female\" \"male\"   \"female\" \"female\" \"female\" \"female\" \"female\"\n",
       " [568] \"female\" \"male\"   \"male\"   \"male\"   \"female\" \"female\" \"male\"   \"female\" \"female\"\n",
       " [577] \"female\" \"male\"   \"female\" \"male\"   \"male\"   \"female\" \"female\" \"male\"   \"female\"\n",
       " [586] \"male\"   \"male\"   \"female\" \"female\" \"male\"   \"male\"   \"female\" \"female\" \"female\"\n",
       " [595] \"male\"   \"male\"   \"male\"   \"male\"   \"female\" \"male\"   \"male\"   \"female\" \"male\"  \n",
       " [604] \"female\" \"female\" \"male\"   \"female\" \"female\" \"male\"   \"male\"   \"female\" \"female\"\n",
       " [613] \"male\"   \"male\"   \"male\"   \"male\"   \"female\" \"female\" \"male\"   \"male\"   \"female\"\n",
       " [622] \"female\" \"female\" \"male\"   \"male\"   \"male\"   \"male\"   \"male\"   \"male\"   \"female\"\n",
       " [631] \"male\"   \"female\" \"female\" \"male\"   \"female\" \"male\"   \"male\"   \"female\" \"male\"  \n",
       " [640] \"female\" \"male\"   \"male\"   \"male\"   \"male\"   \"male\"   \"female\" \"female\" \"female\"\n",
       " [649] \"male\"   \"male\"   \"female\" \"male\"   \"female\" \"female\" \"female\" \"male\"   \"male\"  \n",
       " [658] \"female\" \"male\"   \"male\"   \"female\" \"male\"   \"male\"   \"female\" \"female\" \"male\"  \n",
       " [667] \"male\"   \"male\"   \"female\" \"female\" \"female\" \"female\" \"male\"   \"male\"   \"male\"  \n",
       " [676] \"female\" \"male\"   \"female\" \"male\"   \"female\" \"male\"   \"male\"   \"female\" \"male\"  \n",
       " [685] \"female\" \"female\" \"female\" \"male\"   \"male\"   \"male\"   \"female\" \"female\" \"female\"\n",
       " [694] \"male\"   \"female\" \"female\" \"female\" \"female\" \"male\"   \"male\"   \"female\" \"female\"\n",
       " [703] \"male\"   \"male\"   \"male\"   \"male\"   \"male\"   \"female\" \"female\" \"female\" \"female\"\n",
       " [712] \"female\" \"male\"   \"male\"   \"male\"   \"female\" \"female\" \"male\"   \"male\"   \"female\"\n",
       " [721] \"female\" \"female\" \"male\"   \"female\" \"male\"   \"male\"   \"male\"   \"female\" \"male\"  \n",
       " [730] \"female\" \"female\" \"male\"   \"female\" \"male\"   \"male\"   \"male\"   \"male\"   \"female\"\n",
       " [739] \"female\" \"female\" \"female\" \"male\"   \"male\"   \"male\"   \"female\" \"female\" \"male\"  \n",
       " [748] \"female\" \"male\"   \"male\"   \"female\" \"male\"   \"female\" \"female\" \"male\"   \"male\"  \n",
       " [757] \"female\" \"female\" \"male\"   \"male\"   \"male\"   \"female\" \"female\" \"female\" \"male\"  \n",
       " [766] \"male\"   \"female\" \"female\" \"female\" \"male\"   \"male\"   \"male\"   \"male\"   \"male\"  \n",
       " [775] \"female\" \"female\" \"male\"   \"female\" \"male\"   \"male\"   \"male\"   \"male\"   \"male\"  \n",
       " [784] \"male\"   \"female\" \"female\" \"male\"   \"male\"   \"female\" \"male\"   \"male\"   \"female\"\n",
       " [793] \"female\" \"female\" \"male\"   \"female\" \"female\" \"male\"   \"male\"   \"female\" \"female\"\n",
       " [802] \"male\"   \"male\"   \"female\" \"female\" \"male\"   \"female\" \"male\"   \"male\"   \"male\"  \n",
       " [811] \"male\"   \"female\" \"female\" \"female\" \"female\" \"male\"   \"male\"   \"female\" \"female\"\n",
       " [820] \"female\" \"male\"   \"female\" \"female\" \"female\" \"male\"   \"female\" \"male\"   \"female\"\n",
       " [829] \"male\"   \"female\" \"male\"   \"female\" \"male\"   \"male\"   \"male\"   \"female\" \"female\"\n",
       " [838] \"female\" \"male\"   \"female\" \"female\" \"female\" \"female\" \"male\"   \"male\"   \"male\"  \n",
       " [847] \"male\"   \"female\" \"male\"   \"female\" \"female\" \"female\" \"female\" \"female\" \"male\"  \n",
       " [856] \"male\"   \"female\" \"female\" \"female\" \"female\" \"female\" \"female\" \"female\" \"female\"\n",
       " [865] \"male\"   \"male\"   \"male\"   \"male\"   \"male\"   \"male\"   \"female\" \"male\"   \"female\"\n",
       " [874] \"female\" \"male\"   \"male\"   \"male\"   \"male\"   \"male\"   \"female\" \"male\"   \"female\"\n",
       " [883] \"female\" \"male\"   \"male\"   \"male\"   \"female\" \"male\"   \"male\"   \"female\" \"female\"\n",
       " [892] \"male\"   \"female\" \"male\"   \"male\"   \"female\" \"male\"   \"male\"   \"female\" \"female\"\n",
       " [901] \"female\" \"male\"   \"male\"   \"male\"   \"female\" \"female\" \"female\" \"male\"   \"male\"  \n",
       " [910] \"female\" \"male\"   \"male\"   \"female\" \"female\" \"male\"   \"female\" \"male\"   \"male\"  \n",
       " [919] \"male\"   \"female\" \"female\" \"male\"   \"male\"   \"male\"   \"male\"   \"female\" \"female\"\n",
       " [928] \"male\"   \"female\" \"female\" \"male\"   \"male\"   \"female\" \"male\"   \"male\"   \"female\"\n",
       " [937] \"female\" \"male\"   \"male\"   \"female\" \"male\"   \"male\"   \"female\" \"female\" \"female\"\n",
       " [946] \"female\" \"male\"   \"female\" \"female\" \"male\"   \"female\" \"male\"   \"male\"   \"male\"  \n",
       " [955] \"male\"   \"female\" \"male\"   \"male\"   \"female\" \"female\" \"male\"   \"female\" \"female\"\n",
       " [964] \"female\" \"female\" \"female\" \"male\"   \"male\"   \"male\"   \"female\" \"female\" \"female\"\n",
       " [973] \"male\"   \"female\" \"female\" \"female\" \"male\"   \"female\" \"female\" \"female\" \"male\"  \n",
       " [982] \"female\" \"male\"   \"male\"   \"female\" \"male\"   \"female\" \"female\" \"male\"   \"male\"  \n",
       " [991] \"female\" \"male\"   \"female\" \"male\"   \"female\" \"male\"   \"female\" \"male\"   \"female\"\n",
       "[1000] \"female\"\n",
       " [ reached getOption(\"max.print\") -- omitted 19293 entries ]"
      ]
     },
     "execution_count": null,
     "metadata": {},
     "output_type": "execute_result"
    }
   ],
   "source": [
    "nhanes$Gender"
   ]
  },
  {
   "cell_type": "code",
   "execution_count": 6,
   "id": "7a653b9d",
   "metadata": {},
   "outputs": [
    {
     "data": {
      "text/plain": [
       "     ID SurveyYr Gender\n",
       "1 51624  2009_10   male\n",
       "2 51625  2009_10   male\n",
       "3 51626  2009_10   male"
      ]
     },
     "execution_count": null,
     "metadata": {},
     "output_type": "execute_result"
    }
   ],
   "source": [
    "# slicing\n",
    "nhanes[1:3, 1:3]"
   ]
  },
  {
   "cell_type": "code",
   "execution_count": null,
   "id": "6146072a",
   "metadata": {},
   "outputs": [],
   "source": [
    "#slice out an entire row\n",
    "# each row is a list\n",
    "person1 <- nhanes[1, ]"
   ]
  },
  {
   "cell_type": "code",
   "execution_count": 9,
   "id": "10898278",
   "metadata": {},
   "outputs": [
    {
     "data": {
      "text/plain": [
       "[1] 34"
      ]
     },
     "execution_count": null,
     "metadata": {},
     "output_type": "execute_result"
    }
   ],
   "source": [
    "person1$Age"
   ]
  },
  {
   "cell_type": "code",
   "execution_count": 10,
   "id": "d71244b9",
   "metadata": {},
   "outputs": [
    {
     "data": {
      "text/plain": [
       "[1] \"male\""
      ]
     },
     "execution_count": null,
     "metadata": {},
     "output_type": "execute_result"
    }
   ],
   "source": [
    "person1$Gender"
   ]
  },
  {
   "cell_type": "code",
   "execution_count": 11,
   "id": "ba2f62a2",
   "metadata": {},
   "outputs": [
    {
     "data": {
      "text/plain": [
       "   [1] 34  4 16 10 60 26 49  1 10 80 10 80  4 35  9  4 17 13  7 42  0 66  8 45 28  8 11 19\n",
       "  [29]  1 44 66 49 58 54 26 10 32 60 44 18 53  3 58 50 70 65 22  9 27 30 40 80 27 33 60 16\n",
       "  [57] 60  5 11 35  4 56  1 78  0  8 63 57 54 70 38  8 54 27  7 26  6 36 44 17 54 25  2 64\n",
       "  [85] 39 40 26 59 74 80 58 49  7  0 51 17 12 40 16 28 37  8 26 14 55 14 68 28 32 35 25 55\n",
       " [113] 60 52 37  1 50 21 17  8 44 44 40 77 56 80 37  3 78  3 58  1 23 28 13 40 27 31 22  3\n",
       " [141] 29 11 17  6 56 80 60 16 30  6 26 25 30 22 72 36 54 29 23 42 61  5  0 22 17  9 80 31\n",
       " [169] 35 31 13 32 62  2 62 50  1 26  2 58 80 42 53 78 43 35  7  5 12  8 12 44 20 80 56 80\n",
       " [197] 80 70 21 80 23 22 13  1 66 34 42 41 38 48 66  9 51 14  3 36  2 12 19 27 61 50 43  4\n",
       " [225] 52 41 27 46  6 17 75 63 61 44 44  7 11 80 15 76  3 40 74 35 29  7  6 23 10 17 56 63\n",
       " [253]  0 55 75  4 47 11 25 63  9 43 30 22 63 66  3 76 50 70  5 61 16 15 31 30 70 12 46 21\n",
       " [281] 23 52 46 22 43 55  6 48 27  5 10 33 66 16 21 64  9 55 46 24 18 80  7  7 62 80 25 19\n",
       " [309]  1 54 13 14 51 11  9  1 31 28 57 39 42 46  4  0 70 15  9 56 46  2 14  4  4 40 29 31\n",
       " [337]  1 36  0 49 60 10 28 61 45  2  8 32 53 46 55 57 79  2  6  9 11 53 46 22  7 60  7  5\n",
       " [365]  0 30  5 35  2 49 15 72 29 74 13 40 12  0 74  2 12 46  2 49 62 44 49 18 66 36 17  6\n",
       " [393] 18 31  6 32 32 27 16 65  9 29 19 55  8 43  9 77 40 45  0 12  2 19 11 43 11 80 61 62\n",
       " [421] 26  2 18 34  4 18 39 56 43 80 68 14  1 56 49  4  9 10 38 47 26 66  0 80 72 40  1 41\n",
       " [449] 32 80 17 18 60 18 80  6 30 65  5 20 72 61 68  9 79  2 52  4 35 15 61  7 67 27  6 56\n",
       " [477] 56 10 12 62 74 16 50 48  2 66 48 52 63 58 13 43 29 40 10 67 25  6 67 18 45 56 55 50\n",
       " [505] 13 74 30 38  3 17 61 74  6 55 46  5 23 12 10  8 21 29 62  0 42 60 14 31 70 38 56 12\n",
       " [533] 12 53 12 45 73 80 61  9 74  3 60 47 73  5  5  0 58 54 69 64 11 17  5 40 29 44 58 28\n",
       " [561] 49 33 12 44 80 13 28 51 73 55 16 46 12 39 45  2  0 22 65 75 20 48 42 67 40  3 15 80\n",
       " [589] 65 53 38 63 64 48 11 12  7 65 39 21  6 17 63 57  2 54  6 56 36 72 80 21  8  5  8 17\n",
       " [617] 10 43 33 76 19 43  7 45 60 43 76 43  0 18 14 80 34 69  3 25  5 20 76 17  4 25 54 80\n",
       " [645] 29  7  9 80 46 61 33 53 50  1  9  5 20 12 54 67 80 16  3  9 39 80 32 29 19 56  1 37\n",
       " [673] 73 17 18 71  0 15 16 78 80 39 19 51 67 29 69 11 24  2 25 52 75 13 42 18 39 80 60 22\n",
       " [701] 41 17 28  0  2  8 13 21 40 51 56 20 16 72 10 65 59 54 19 80 31 24 10 18 57 45 69 80\n",
       " [729] 19  0  9 36 28  8  1 17 28 36 29 49 33 22 49 11 34 69 33 31 62  0  5 67 46 54  7  1\n",
       " [757] 11 61 28  2 59 12 32 22 15 24 20 75 47  2  6 35  6 55 34 80 78 20  8 27  0 14 28 35\n",
       " [785] 54  4 24 56 78 80 30 34 56 73 23 11 12 30 70 80 42 29 21 33 33  7 45 41  2 45 80  0\n",
       " [813] 49 42 13 59  1 54  0  3 71 44 65 24  8  2 63 22  2 80  4  7  0 36 64  0 10  0 58  0\n",
       " [841]  7 11 67 38  9 61  8 46  2 67  3 21  3 36 17 19 39  1 42 20 31 47  3 11  1 15 68 16\n",
       " [869] 80 42 78  3 60 78 13 54  8 38 11 75  0 11  8  7  2 54 77 27  7 73 12 10 50 54  8 16\n",
       " [897]  5  0  1 52 54 65  4 14  6 19 51  5 80 14  9 43  6 52 37 59 13 51 19 59  0 58  9 80\n",
       " [925] 24 64 68 15 29 75 31 17 39 62 17  8 52 65 30 35 70 51 70 25  4 26 32 71 62 29  0 49\n",
       " [953] 72 78 15 69 11 59  0 64 39 36 64 72  0 52  9 63 54 72  1 48  2 69  2 24  4  0 64 80\n",
       " [981]  7 60 75 52 60 51 10 50 18  1 25  5 16 70  6 78  8 35  2 18\n",
       " [ reached getOption(\"max.print\") -- omitted 19293 entries ]"
      ]
     },
     "execution_count": null,
     "metadata": {},
     "output_type": "execute_result"
    }
   ],
   "source": [
    "# A column AKA variable can also be accessed using the with functrion\n",
    "with(nhanes, Age)"
   ]
  },
  {
   "cell_type": "code",
   "execution_count": null,
   "id": "0fef1580",
   "metadata": {},
   "outputs": [],
   "source": []
  }
 ],
 "metadata": {
  "language_info": {
   "name": "r"
  }
 },
 "nbformat": 4,
 "nbformat_minor": 5
}
