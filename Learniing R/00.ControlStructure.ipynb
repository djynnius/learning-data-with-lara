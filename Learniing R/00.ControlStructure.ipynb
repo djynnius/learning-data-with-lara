{
 "cells": [
  {
   "cell_type": "markdown",
   "id": "3c757479",
   "metadata": {},
   "source": [
    "# Control Structure"
   ]
  },
  {
   "cell_type": "markdown",
   "id": "aa2c87ec",
   "metadata": {},
   "source": [
    "### Logic\n",
    "if and else statements"
   ]
  },
  {
   "cell_type": "markdown",
   "id": "14a21d00",
   "metadata": {},
   "source": [
    "|"
   ]
  },
  {
   "cell_type": "code",
   "execution_count": 3,
   "id": "8933d73f",
   "metadata": {},
   "outputs": [
    {
     "name": "stdout",
     "output_type": "stream",
     "text": [
      "[1] \"do this\"\n"
     ]
    }
   ],
   "source": [
    "# Logic is controlling what to do if a condition is satsfaied (if the condition is true)\n",
    "if(T){\n",
    "  print(\"do this\")\n",
    "}"
   ]
  },
  {
   "cell_type": "code",
   "execution_count": 6,
   "id": "f46dea6c",
   "metadata": {},
   "outputs": [],
   "source": [
    "if(F){\n",
    "  print(\"do this\")\n",
    "}"
   ]
  },
  {
   "cell_type": "code",
   "execution_count": 7,
   "id": "2dbcdaa5",
   "metadata": {},
   "outputs": [],
   "source": [
    "x <- 2\n",
    "y <- 3"
   ]
  },
  {
   "cell_type": "code",
   "execution_count": 10,
   "id": "d7e26d21",
   "metadata": {},
   "outputs": [
    {
     "name": "stdout",
     "output_type": "stream",
     "text": [
      "[1] \"lets go\"\n"
     ]
    }
   ],
   "source": [
    "if(x < y){\n",
    "  print(\"lets go\")\n",
    "}"
   ]
  },
  {
   "cell_type": "code",
   "execution_count": 9,
   "id": "ac65de04",
   "metadata": {},
   "outputs": [
    {
     "data": {
      "text/plain": [
       "[1] FALSE"
      ]
     },
     "execution_count": null,
     "metadata": {},
     "output_type": "execute_result"
    }
   ],
   "source": [
    "x > y"
   ]
  },
  {
   "cell_type": "code",
   "execution_count": 11,
   "id": "fe7b78cf",
   "metadata": {},
   "outputs": [
    {
     "data": {
      "text/plain": [
       "[1] TRUE"
      ]
     },
     "execution_count": null,
     "metadata": {},
     "output_type": "execute_result"
    }
   ],
   "source": [
    "x < y"
   ]
  },
  {
   "cell_type": "code",
   "execution_count": 14,
   "id": "1092038e",
   "metadata": {},
   "outputs": [
    {
     "name": "stdout",
     "output_type": "stream",
     "text": [
      "[1] \"do nothing\"\n"
     ]
    }
   ],
   "source": [
    "if(F){\n",
    "  print(\"do something\")\n",
    "} else {\n",
    "  print(\"do nothing\")\n",
    "}"
   ]
  },
  {
   "cell_type": "code",
   "execution_count": 20,
   "id": "b0b9c750",
   "metadata": {},
   "outputs": [
    {
     "name": "stdout",
     "output_type": "stream",
     "text": [
      "[1] \"not sure what to say\"\n"
     ]
    }
   ],
   "source": [
    "# else if statement\n",
    "color <- \"brown\"\n",
    "\n",
    "if(color == 'red'){\n",
    "  print(\"purity\")\n",
    "} else if(color == \"green\"){\n",
    "  print(\"fertility\")\n",
    "} else if(color == \"purple\"){\n",
    "  print(\"royalty\")\n",
    "} else if (color == 'white'){\n",
    "  print(\"peace\")\n",
    "} else {\n",
    "  print(\"not sure what to say\")\n",
    "}"
   ]
  },
  {
   "cell_type": "code",
   "execution_count": 23,
   "id": "0480e4fc",
   "metadata": {},
   "outputs": [],
   "source": [
    "# and ifelse function\n",
    "a = ifelse(F, 1, 0)"
   ]
  },
  {
   "cell_type": "code",
   "execution_count": 24,
   "id": "bf42d65b",
   "metadata": {},
   "outputs": [
    {
     "name": "stdout",
     "output_type": "stream",
     "text": [
      "[1] 0\n"
     ]
    }
   ],
   "source": [
    "print(a)"
   ]
  },
  {
   "cell_type": "code",
   "execution_count": 48,
   "id": "2cf2df92",
   "metadata": {},
   "outputs": [],
   "source": [
    "sex = \"female\"\n",
    "greeting = ifelse(sex  == 'male', 'Hello sir', 'Hello ma')"
   ]
  },
  {
   "cell_type": "code",
   "execution_count": 49,
   "id": "f6b0daf0",
   "metadata": {},
   "outputs": [
    {
     "data": {
      "text/plain": [
       "[1] \"Hello ma\""
      ]
     },
     "execution_count": null,
     "metadata": {},
     "output_type": "execute_result"
    }
   ],
   "source": [
    "greeting"
   ]
  },
  {
   "cell_type": "markdown",
   "id": "340d9116",
   "metadata": {},
   "source": [
    "### Loops"
   ]
  },
  {
   "cell_type": "code",
   "execution_count": 52,
   "id": "6a8ce2f7",
   "metadata": {},
   "outputs": [
    {
     "name": "stdout",
     "output_type": "stream",
     "text": [
      "[1] 1\n",
      "[1] 2\n",
      "[1] 3\n",
      "[1] 4\n",
      "[1] 5\n",
      "[1] 6\n",
      "[1] 7\n",
      "[1] 8\n",
      "[1] 9\n"
     ]
    }
   ],
   "source": [
    "# while loop\n",
    "# infinite loop\n",
    "# use a counter to avoid this \n",
    "# also increment/decrement the counter\n",
    "\n",
    "counter = 1 \n",
    "while(counter < 10){\n",
    "  print(counter)\n",
    "  counter = counter  + 1\n",
    "}\n"
   ]
  },
  {
   "cell_type": "code",
   "execution_count": 53,
   "id": "557a2c65",
   "metadata": {},
   "outputs": [],
   "source": [
    "# for loop\n",
    "# for loops work with colections especialy vectors\n",
    "\n",
    "fruits <- c(\"Mango\", 'Apple', \"Guava\", \"Agbalumo\")"
   ]
  },
  {
   "cell_type": "code",
   "execution_count": 57,
   "id": "bd9efd15",
   "metadata": {},
   "outputs": [
    {
     "data": {
      "text/plain": [
       "[1] \"Mango\"    \"Apple\"    \"Guava\"    \"Agbalumo\""
      ]
     },
     "execution_count": null,
     "metadata": {},
     "output_type": "execute_result"
    }
   ],
   "source": [
    "fruits"
   ]
  },
  {
   "cell_type": "code",
   "execution_count": 60,
   "id": "2de10961",
   "metadata": {},
   "outputs": [
    {
     "name": "stdout",
     "output_type": "stream",
     "text": [
      "[1] \"Mango\"\n",
      "[1] \"Apple\"\n",
      "[1] \"Guava\"\n",
      "[1] \"Agbalumo\"\n"
     ]
    }
   ],
   "source": [
    "for(fruit in fruits){\n",
    "  print(fruit)\n",
    "}"
   ]
  },
  {
   "cell_type": "code",
   "execution_count": null,
   "id": "f2fb24bd",
   "metadata": {},
   "outputs": [],
   "source": [
    "#possible to nest loops in if-else or if-else in loops or even loops in loops or if-else in if-else\n",
    "\n",
    "\n",
    "scores = c(98, 43, 58, 63, 99, 87, 82, 69, 90, 73, 75, 72, 72)\n"
   ]
  },
  {
   "cell_type": "code",
   "execution_count": null,
   "id": "acc64abc",
   "metadata": {},
   "outputs": [
    {
     "name": "stdout",
     "output_type": "stream",
     "text": [
      "[1] \"98 A-pass\"\n",
      "[1] \"43 F-fail\"\n",
      "[1] \"58 E-Pass\"\n",
      "[1] \"63 E-Pass\"\n",
      "[1] \"99 A-pass\"\n",
      "[1] \"87 B-Pass\"\n",
      "[1] \"82 B-Pass\"\n",
      "[1] \"69 E-Pass\"\n",
      "[1] \"90 A-pass\"\n",
      "[1] \"73 C-Pass\"\n",
      "[1] \"75 C-Pass\"\n",
      "[1] \"72 C-Pass\"\n",
      "[1] \"72 C-Pass\"\n"
     ]
    }
   ],
   "source": [
    "# nesting if-else in a for loop\n",
    "for(score in scores){\n",
    "  if(score %in% 0:49){\n",
    "    print(paste(score, \"F-fail\"))\n",
    "  } else if(score %in% 50:69){\n",
    "    print(paste(score, \"E-Pass\"))\n",
    "  } else if(score %in% 60:69){\n",
    "    print(paste(score, \"D-Pass\"))\n",
    "  } else if(score %in% 70:79){\n",
    "    print(paste(score, \"C-Pass\"))\n",
    "  } else if(score %in% 80:89){\n",
    "    print(paste(score, \"B-Pass\"))\n",
    "  }else {\n",
    "    print(paste(score, \"A-pass\"))\n",
    "  }\n",
    "}"
   ]
  },
  {
   "cell_type": "code",
   "execution_count": 67,
   "id": "525ba567",
   "metadata": {},
   "outputs": [
    {
     "data": {
      "text/plain": [
       "[1] \"2 3\""
      ]
     },
     "execution_count": null,
     "metadata": {},
     "output_type": "execute_result"
    }
   ],
   "source": [
    "paste(x, y)"
   ]
  },
  {
   "cell_type": "code",
   "execution_count": 68,
   "id": "74991c03",
   "metadata": {},
   "outputs": [
    {
     "data": {
      "text/plain": [
       "[1] \"23\""
      ]
     },
     "execution_count": null,
     "metadata": {},
     "output_type": "execute_result"
    }
   ],
   "source": [
    "paste0(x, y)"
   ]
  },
  {
   "cell_type": "code",
   "execution_count": 79,
   "id": "5124c86b",
   "metadata": {},
   "outputs": [],
   "source": [
    "# nesting for loops inside if-else\n",
    "\n",
    "if(sex == 'male'){\n",
    "  for(fruit in fruits){\n",
    "    print(fruit)\n",
    "  }\n",
    "}"
   ]
  },
  {
   "cell_type": "code",
   "execution_count": 76,
   "id": "900a7a86",
   "metadata": {},
   "outputs": [
    {
     "data": {
      "text/plain": [
       "[1] \"female\""
      ]
     },
     "execution_count": null,
     "metadata": {},
     "output_type": "execute_result"
    }
   ],
   "source": [
    "sex"
   ]
  },
  {
   "cell_type": "code",
   "execution_count": null,
   "id": "fc636013",
   "metadata": {},
   "outputs": [],
   "source": []
  }
 ],
 "metadata": {
  "language_info": {
   "name": "r"
  }
 },
 "nbformat": 4,
 "nbformat_minor": 5
}
