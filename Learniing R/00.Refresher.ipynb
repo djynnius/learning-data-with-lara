{
 "cells": [
  {
   "cell_type": "code",
   "execution_count": null,
   "id": "75066076",
   "metadata": {},
   "outputs": [],
   "source": [
    "# This is a comment\n",
    "\n",
    "# R\n",
    "# Learning a new language \n",
    "\n",
    "#1. Data types\n",
    "#2. Operators \n",
    "#3. Control structure - Logic\n",
    "#4. Control structure - Loops\n",
    "#5. Functions\n"
   ]
  },
  {
   "cell_type": "code",
   "execution_count": 2,
   "id": "3f1d3919",
   "metadata": {},
   "outputs": [],
   "source": [
    "#Data types\n",
    "\n",
    "# Basic data types (scalars)\n",
    "# Numerical\n",
    "# Character \n",
    "# Logical\n",
    "\n"
   ]
  },
  {
   "cell_type": "code",
   "execution_count": 6,
   "id": "98c7ff1b",
   "metadata": {},
   "outputs": [
    {
     "data": {
      "text/plain": [
       "[1] \"numeric\""
      ]
     },
     "execution_count": null,
     "metadata": {},
     "output_type": "execute_result"
    }
   ],
   "source": [
    "# Numerical data\n",
    "class(1) "
   ]
  },
  {
   "cell_type": "code",
   "execution_count": 7,
   "id": "daefde06",
   "metadata": {},
   "outputs": [
    {
     "data": {
      "text/plain": [
       "[1] \"numeric\""
      ]
     },
     "execution_count": null,
     "metadata": {},
     "output_type": "execute_result"
    }
   ],
   "source": [
    "class(1.0)"
   ]
  },
  {
   "cell_type": "code",
   "execution_count": 8,
   "id": "9a2df6b6",
   "metadata": {},
   "outputs": [
    {
     "data": {
      "text/plain": [
       "[1] \"numeric\""
      ]
     },
     "execution_count": null,
     "metadata": {},
     "output_type": "execute_result"
    }
   ],
   "source": [
    "class(-1)"
   ]
  },
  {
   "cell_type": "code",
   "execution_count": 4,
   "id": "278fd24f",
   "metadata": {},
   "outputs": [
    {
     "data": {
      "text/plain": [
       "[1] \"numeric\""
      ]
     },
     "execution_count": null,
     "metadata": {},
     "output_type": "execute_result"
    }
   ],
   "source": [
    "class(1e+3)"
   ]
  },
  {
   "cell_type": "code",
   "execution_count": 12,
   "id": "673afa00",
   "metadata": {},
   "outputs": [
    {
     "data": {
      "text/plain": [
       "[1] \"character\""
      ]
     },
     "execution_count": null,
     "metadata": {},
     "output_type": "execute_result"
    }
   ],
   "source": [
    "# Character (Categorical)\n",
    "class('Hello')"
   ]
  },
  {
   "cell_type": "code",
   "execution_count": 13,
   "id": "b53de02c",
   "metadata": {},
   "outputs": [
    {
     "data": {
      "text/plain": [
       "[1] \"character\""
      ]
     },
     "execution_count": null,
     "metadata": {},
     "output_type": "execute_result"
    }
   ],
   "source": [
    "class(\"Wow\")"
   ]
  },
  {
   "cell_type": "code",
   "execution_count": 14,
   "id": "9f9445d6",
   "metadata": {},
   "outputs": [
    {
     "data": {
      "text/plain": [
       "[1] \"character\""
      ]
     },
     "execution_count": null,
     "metadata": {},
     "output_type": "execute_result"
    }
   ],
   "source": [
    "class(\"1\")"
   ]
  },
  {
   "cell_type": "code",
   "execution_count": 22,
   "id": "2133f65b",
   "metadata": {},
   "outputs": [
    {
     "name": "stdout",
     "output_type": "stream",
     "text": [
      "[1] \"logical\"\n"
     ]
    }
   ],
   "source": [
    "# Logical (True, False and Missing)\n",
    "#True\n",
    "print(class(TRUE))\n"
   ]
  },
  {
   "cell_type": "code",
   "execution_count": 24,
   "id": "09d9ae10",
   "metadata": {},
   "outputs": [
    {
     "name": "stdout",
     "output_type": "stream",
     "text": [
      "[1] \"logical\"\n"
     ]
    }
   ],
   "source": [
    "#False\n",
    "print(class(FALSE))\n"
   ]
  },
  {
   "cell_type": "code",
   "execution_count": 25,
   "id": "fb1da1b9",
   "metadata": {},
   "outputs": [
    {
     "data": {
      "text/plain": [
       "[1] \"logical\""
      ]
     },
     "execution_count": null,
     "metadata": {},
     "output_type": "execute_result"
    }
   ],
   "source": [
    "#True\n",
    "class(T)"
   ]
  },
  {
   "cell_type": "code",
   "execution_count": 26,
   "id": "d210abf5",
   "metadata": {},
   "outputs": [
    {
     "data": {
      "text/plain": [
       "[1] \"logical\""
      ]
     },
     "execution_count": null,
     "metadata": {},
     "output_type": "execute_result"
    }
   ],
   "source": [
    "#False\n",
    "class(F)"
   ]
  },
  {
   "cell_type": "code",
   "execution_count": 27,
   "id": "4be82077",
   "metadata": {},
   "outputs": [
    {
     "data": {
      "text/plain": [
       "[1] \"logical\""
      ]
     },
     "execution_count": null,
     "metadata": {},
     "output_type": "execute_result"
    }
   ],
   "source": [
    "#Missing\n",
    "class(NA)"
   ]
  },
  {
   "cell_type": "code",
   "execution_count": null,
   "id": "4e938950",
   "metadata": {},
   "outputs": [
    {
     "name": "stdout",
     "output_type": "stream",
     "text": [
      "[1] \"numeric\"\n"
     ]
    }
   ],
   "source": [
    "# Collections\n",
    "# Vectors\n",
    "# These are type specific\n",
    "# to write a vector which is a collection you start with the c() function\n",
    "# Vectors are one dimensional with length as their only dimension\n",
    "\n",
    "#Numeric vector\n",
    "print(class(c(1, 4, 2, 6, 7, 9, 0)))\n"
   ]
  },
  {
   "cell_type": "code",
   "execution_count": 35,
   "id": "d2f74cc2",
   "metadata": {},
   "outputs": [
    {
     "data": {
      "text/plain": [
       "[1] \"character\""
      ]
     },
     "execution_count": null,
     "metadata": {},
     "output_type": "execute_result"
    }
   ],
   "source": [
    "#Character vector\n",
    "\n",
    "class(c('Monday', 'Wednesday', 'Friday'))"
   ]
  },
  {
   "cell_type": "code",
   "execution_count": 36,
   "id": "311e65ea",
   "metadata": {},
   "outputs": [
    {
     "data": {
      "text/plain": [
       "[1] \"logical\""
      ]
     },
     "execution_count": null,
     "metadata": {},
     "output_type": "execute_result"
    }
   ],
   "source": [
    "# Logical vector\n",
    "\n",
    "class(c(T, F, F, T, T))"
   ]
  },
  {
   "cell_type": "code",
   "execution_count": 37,
   "id": "c5a9e07a",
   "metadata": {},
   "outputs": [
    {
     "data": {
      "text/plain": [
       "[1] \"Hello\" \"4\"    "
      ]
     },
     "execution_count": null,
     "metadata": {},
     "output_type": "execute_result"
    }
   ],
   "source": [
    "#Vectors can be of one and one type only. If you mix then they will transform to a single type. \n",
    "# The precedence being character > numeric > logical\n",
    "\n",
    "c('Hello', 4)"
   ]
  },
  {
   "cell_type": "code",
   "execution_count": null,
   "id": "5c07474f",
   "metadata": {},
   "outputs": [
    {
     "data": {
      "text/plain": [
       "[1] \"Hello\" \"FALSE\""
      ]
     },
     "execution_count": null,
     "metadata": {},
     "output_type": "execute_result"
    }
   ],
   "source": [
    "#characrer of logical\n",
    "c('Hello', F)"
   ]
  },
  {
   "cell_type": "code",
   "execution_count": null,
   "id": "4533e748",
   "metadata": {},
   "outputs": [
    {
     "data": {
      "text/plain": [
       "[1] \"FALSE\" \"Hi\"    \"56\"   "
      ]
     },
     "execution_count": null,
     "metadata": {},
     "output_type": "execute_result"
    }
   ],
   "source": [
    "#character over numeric and logical\n",
    "c(F, 'Hi', 56)"
   ]
  },
  {
   "cell_type": "code",
   "execution_count": null,
   "id": "fc2afeb1",
   "metadata": {},
   "outputs": [
    {
     "data": {
      "text/plain": [
       "[1] 45  0"
      ]
     },
     "execution_count": null,
     "metadata": {},
     "output_type": "execute_result"
    }
   ],
   "source": [
    "#numeric over logical\n",
    "c(45, F)"
   ]
  },
  {
   "cell_type": "code",
   "execution_count": null,
   "id": "7ba46fe4",
   "metadata": {},
   "outputs": [
    {
     "data": {
      "text/plain": [
       "[1] 33  1"
      ]
     },
     "execution_count": null,
     "metadata": {},
     "output_type": "execute_result"
    }
   ],
   "source": [
    "#numeric over logical\n",
    "c(33, T)"
   ]
  },
  {
   "cell_type": "code",
   "execution_count": null,
   "id": "15942170",
   "metadata": {},
   "outputs": [
    {
     "data": {
      "text/plain": [
       "[1]  0  1 18"
      ]
     },
     "execution_count": null,
     "metadata": {},
     "output_type": "execute_result"
    }
   ],
   "source": [
    "#numeric over logical\n",
    "c(F, T, 18)"
   ]
  },
  {
   "cell_type": "code",
   "execution_count": 45,
   "id": "79883962",
   "metadata": {},
   "outputs": [
    {
     "name": "stdout",
     "output_type": "stream",
     "text": [
      "[1] 11\n"
     ]
    }
   ],
   "source": [
    "# length of a vector\n",
    "\n",
    "print(length(c(3, 6, 1, 8, 9, 2, 4, 5, 7, 2, 8)))\n"
   ]
  },
  {
   "cell_type": "code",
   "execution_count": 46,
   "id": "e1ea5970",
   "metadata": {},
   "outputs": [
    {
     "data": {
      "text/plain": [
       "[1] 3"
      ]
     },
     "execution_count": null,
     "metadata": {},
     "output_type": "execute_result"
    }
   ],
   "source": [
    "length(c('yam', 'beans', 'rice'))"
   ]
  },
  {
   "cell_type": "code",
   "execution_count": null,
   "id": "27ce0464",
   "metadata": {},
   "outputs": [
    {
     "data": {
      "text/plain": [
       "     [,1] [,2] [,3] [,4] [,5] [,6]\n",
       "[1,]    5    8    4    8    5    9\n",
       "[2,]    3    2    3    9    6    3\n",
       "[3,]    6    7    6    3    7    2\n",
       "[4,]    1    7    1    2    8    2"
      ]
     },
     "execution_count": null,
     "metadata": {},
     "output_type": "execute_result"
    }
   ],
   "source": [
    "# Matrices (these have two dimension being rows and columns)\n",
    "#like vectors matrices can be of only one type\n",
    "matrix(c(5, 3, 6, 1, 8, 2, 7, 7, 4, 3, 6, 1, 8, 9, 3, 2, 5, 6, 7, 8, 9, 3, 2, 2), nrow=4)"
   ]
  },
  {
   "cell_type": "code",
   "execution_count": 38,
   "id": "a00bc5c6",
   "metadata": {},
   "outputs": [
    {
     "data": {
      "text/plain": [
       "$name\n",
       "[1] \"Lara\"\n",
       "\n",
       "$location\n",
       "[1] \"UK\"\n",
       "\n",
       "$children\n",
       "[1] \"Taiwo\"   \"Kehinde\"\n",
       "\n",
       "$childrens_ages\n",
       "[1] 3 3\n",
       "\n",
       "$knows_data\n",
       "[1] TRUE\n"
      ]
     },
     "execution_count": null,
     "metadata": {},
     "output_type": "execute_result"
    }
   ],
   "source": [
    "# Lists\n",
    "\n",
    "list(name='Lara', location='UK', children=c('Taiwo', 'Kehinde'), childrens_ages=c(3,3), knows_data=T)"
   ]
  },
  {
   "cell_type": "code",
   "execution_count": 57,
   "id": "5dc2ee94",
   "metadata": {},
   "outputs": [],
   "source": [
    "# Dataframe\n",
    "# Spreadsheet\n",
    "# usually when you import ata it will come in as a dataframe"
   ]
  },
  {
   "cell_type": "code",
   "execution_count": 59,
   "id": "0ba7a155",
   "metadata": {},
   "outputs": [],
   "source": [
    "############\n",
    "# OPERATORS\n",
    "############\n",
    "\n",
    "#symbols that have some kind of value like functions"
   ]
  },
  {
   "cell_type": "code",
   "execution_count": 60,
   "id": "b1c066e6",
   "metadata": {},
   "outputs": [],
   "source": [
    "# Assignment operators\n",
    "# =, <-, ->\n",
    "#These assign a value (which is a datatype) to a named entity called a variable"
   ]
  },
  {
   "cell_type": "code",
   "execution_count": 1,
   "id": "e953f0fd",
   "metadata": {},
   "outputs": [],
   "source": [
    "scores = c(98, 82, 93, 97, 91, 94, 94, 96, 92, 91, 91, 90)"
   ]
  },
  {
   "cell_type": "code",
   "execution_count": 7,
   "id": "f34f62e7",
   "metadata": {},
   "outputs": [
    {
     "data": {
      "text/plain": [
       " [1] 98 82 93 97 91 94 94 96 92 91 91 90"
      ]
     },
     "execution_count": null,
     "metadata": {},
     "output_type": "execute_result"
    }
   ],
   "source": [
    "scores"
   ]
  },
  {
   "cell_type": "code",
   "execution_count": 66,
   "id": "905df32e",
   "metadata": {},
   "outputs": [
    {
     "data": {
      "text/plain": [
       "[1] \"numeric\""
      ]
     },
     "execution_count": null,
     "metadata": {},
     "output_type": "execute_result"
    }
   ],
   "source": [
    "class(scores)"
   ]
  },
  {
   "cell_type": "code",
   "execution_count": 67,
   "id": "a8026d7e",
   "metadata": {},
   "outputs": [
    {
     "data": {
      "text/plain": [
       "[1] 12"
      ]
     },
     "execution_count": null,
     "metadata": {},
     "output_type": "execute_result"
    }
   ],
   "source": [
    "length(scores)"
   ]
  },
  {
   "cell_type": "code",
   "execution_count": 2,
   "id": "8756810c",
   "metadata": {},
   "outputs": [],
   "source": [
    "fruits <- c('Mango', 'Guava', 'Cashew', 'Agbalumo')"
   ]
  },
  {
   "cell_type": "code",
   "execution_count": 70,
   "id": "df46a8e6",
   "metadata": {},
   "outputs": [
    {
     "data": {
      "text/plain": [
       "[1] 4"
      ]
     },
     "execution_count": null,
     "metadata": {},
     "output_type": "execute_result"
    }
   ],
   "source": [
    "length(fruits)"
   ]
  },
  {
   "cell_type": "code",
   "execution_count": 3,
   "id": "e17d06eb",
   "metadata": {},
   "outputs": [],
   "source": [
    "c(T, T, T, F, F) -> something"
   ]
  },
  {
   "cell_type": "code",
   "execution_count": 9,
   "id": "2d01e131",
   "metadata": {},
   "outputs": [
    {
     "data": {
      "text/plain": [
       "[1]  TRUE  TRUE  TRUE FALSE FALSE"
      ]
     },
     "execution_count": null,
     "metadata": {},
     "output_type": "execute_result"
    }
   ],
   "source": [
    "something"
   ]
  },
  {
   "cell_type": "code",
   "execution_count": 73,
   "id": "94cd4b86",
   "metadata": {},
   "outputs": [],
   "source": [
    "# Mathematical operators \n",
    "# + - * / %% ^ "
   ]
  },
  {
   "cell_type": "code",
   "execution_count": 4,
   "id": "d9570708",
   "metadata": {},
   "outputs": [],
   "source": [
    "x <- 3\n",
    "y <- 2"
   ]
  },
  {
   "cell_type": "code",
   "execution_count": 75,
   "id": "25582967",
   "metadata": {},
   "outputs": [
    {
     "data": {
      "text/plain": [
       "[1] 5"
      ]
     },
     "execution_count": null,
     "metadata": {},
     "output_type": "execute_result"
    }
   ],
   "source": [
    "x + y"
   ]
  },
  {
   "cell_type": "code",
   "execution_count": 76,
   "id": "4a25c1fc",
   "metadata": {},
   "outputs": [
    {
     "data": {
      "text/plain": [
       "[1] 1"
      ]
     },
     "execution_count": null,
     "metadata": {},
     "output_type": "execute_result"
    }
   ],
   "source": [
    "x - y"
   ]
  },
  {
   "cell_type": "code",
   "execution_count": 77,
   "id": "a5c38a61",
   "metadata": {},
   "outputs": [
    {
     "data": {
      "text/plain": [
       "[1] 6"
      ]
     },
     "execution_count": null,
     "metadata": {},
     "output_type": "execute_result"
    }
   ],
   "source": [
    "x * y"
   ]
  },
  {
   "cell_type": "code",
   "execution_count": 78,
   "id": "a3733e8e",
   "metadata": {},
   "outputs": [
    {
     "data": {
      "text/plain": [
       "[1] 1.5"
      ]
     },
     "execution_count": null,
     "metadata": {},
     "output_type": "execute_result"
    }
   ],
   "source": [
    "x / y"
   ]
  },
  {
   "cell_type": "code",
   "execution_count": null,
   "id": "5a0473c0",
   "metadata": {},
   "outputs": [
    {
     "data": {
      "text/plain": [
       "[1] 1"
      ]
     },
     "execution_count": null,
     "metadata": {},
     "output_type": "execute_result"
    }
   ],
   "source": [
    "#modulus for getting remainder\n",
    "x %% y"
   ]
  },
  {
   "cell_type": "code",
   "execution_count": null,
   "id": "a0cb6cfb",
   "metadata": {},
   "outputs": [
    {
     "data": {
      "text/plain": [
       "[1] 9"
      ]
     },
     "execution_count": null,
     "metadata": {},
     "output_type": "execute_result"
    }
   ],
   "source": [
    "#exponent (power)\n",
    "x ^ y"
   ]
  },
  {
   "cell_type": "code",
   "execution_count": null,
   "id": "fbb0f54f",
   "metadata": {},
   "outputs": [
    {
     "data": {
      "text/plain": [
       "[1] 4"
      ]
     },
     "execution_count": null,
     "metadata": {},
     "output_type": "execute_result"
    }
   ],
   "source": [
    "#square root\n",
    "16 ^ 0.5"
   ]
  },
  {
   "cell_type": "code",
   "execution_count": null,
   "id": "e22f1644",
   "metadata": {},
   "outputs": [
    {
     "data": {
      "text/plain": [
       "[1] FALSE"
      ]
     },
     "execution_count": null,
     "metadata": {},
     "output_type": "execute_result"
    }
   ],
   "source": [
    "# Comparison operators \n",
    "#  ==, !=, >, <, >=, <=, %in%, !\n",
    "# comparison operators retun a logal (boolean ie True or false)\n",
    "\n",
    "x == y"
   ]
  },
  {
   "cell_type": "code",
   "execution_count": 84,
   "id": "318f9501",
   "metadata": {},
   "outputs": [
    {
     "data": {
      "text/plain": [
       "[1] TRUE"
      ]
     },
     "execution_count": null,
     "metadata": {},
     "output_type": "execute_result"
    }
   ],
   "source": [
    "x != y"
   ]
  },
  {
   "cell_type": "code",
   "execution_count": 85,
   "id": "b72d1243",
   "metadata": {},
   "outputs": [
    {
     "data": {
      "text/plain": [
       "[1] TRUE"
      ]
     },
     "execution_count": null,
     "metadata": {},
     "output_type": "execute_result"
    }
   ],
   "source": [
    "x > y"
   ]
  },
  {
   "cell_type": "code",
   "execution_count": 86,
   "id": "866366a5",
   "metadata": {},
   "outputs": [
    {
     "data": {
      "text/plain": [
       "[1] FALSE"
      ]
     },
     "execution_count": null,
     "metadata": {},
     "output_type": "execute_result"
    }
   ],
   "source": [
    "x < y"
   ]
  },
  {
   "cell_type": "code",
   "execution_count": 87,
   "id": "7ef5574a",
   "metadata": {},
   "outputs": [
    {
     "data": {
      "text/plain": [
       "[1] TRUE"
      ]
     },
     "execution_count": null,
     "metadata": {},
     "output_type": "execute_result"
    }
   ],
   "source": [
    "x >= y"
   ]
  },
  {
   "cell_type": "code",
   "execution_count": 88,
   "id": "d5b7ae9c",
   "metadata": {},
   "outputs": [
    {
     "data": {
      "text/plain": [
       "[1] FALSE"
      ]
     },
     "execution_count": null,
     "metadata": {},
     "output_type": "execute_result"
    }
   ],
   "source": [
    "x <= y"
   ]
  },
  {
   "cell_type": "code",
   "execution_count": 89,
   "id": "42c9ca22",
   "metadata": {},
   "outputs": [
    {
     "data": {
      "text/plain": [
       "[1] \"Mango\"    \"Guava\"    \"Cashew\"   \"Agbalumo\""
      ]
     },
     "execution_count": null,
     "metadata": {},
     "output_type": "execute_result"
    }
   ],
   "source": [
    "fruits"
   ]
  },
  {
   "cell_type": "code",
   "execution_count": 12,
   "id": "52490a14",
   "metadata": {},
   "outputs": [
    {
     "data": {
      "text/plain": [
       "[1] TRUE"
      ]
     },
     "execution_count": null,
     "metadata": {},
     "output_type": "execute_result"
    }
   ],
   "source": [
    "'Mango' %in% fruits"
   ]
  },
  {
   "cell_type": "code",
   "execution_count": 91,
   "id": "824b7a4c",
   "metadata": {},
   "outputs": [
    {
     "data": {
      "text/plain": [
       "[1] FALSE"
      ]
     },
     "execution_count": null,
     "metadata": {},
     "output_type": "execute_result"
    }
   ],
   "source": [
    "'Paw paw' %in% fruits"
   ]
  },
  {
   "cell_type": "code",
   "execution_count": 92,
   "id": "305259f2",
   "metadata": {},
   "outputs": [
    {
     "data": {
      "text/plain": [
       "[1] TRUE"
      ]
     },
     "execution_count": null,
     "metadata": {},
     "output_type": "execute_result"
    }
   ],
   "source": [
    "T"
   ]
  },
  {
   "cell_type": "code",
   "execution_count": 93,
   "id": "16019c0b",
   "metadata": {},
   "outputs": [
    {
     "data": {
      "text/plain": [
       "[1] FALSE"
      ]
     },
     "execution_count": null,
     "metadata": {},
     "output_type": "execute_result"
    }
   ],
   "source": [
    "F"
   ]
  },
  {
   "cell_type": "code",
   "execution_count": null,
   "id": "5fd56c9a",
   "metadata": {},
   "outputs": [
    {
     "data": {
      "text/plain": [
       "[1] FALSE"
      ]
     },
     "execution_count": null,
     "metadata": {},
     "output_type": "execute_result"
    }
   ],
   "source": [
    "#Negation with the exclamation point ! so !T becomes NOT TRUE ie FALSE\n",
    "!T"
   ]
  },
  {
   "cell_type": "code",
   "execution_count": 96,
   "id": "a43fca40",
   "metadata": {},
   "outputs": [
    {
     "data": {
      "text/plain": [
       "[1] TRUE"
      ]
     },
     "execution_count": null,
     "metadata": {},
     "output_type": "execute_result"
    }
   ],
   "source": [
    "# This means NOT FALSE ie TRUE\n",
    "!F"
   ]
  },
  {
   "cell_type": "code",
   "execution_count": 97,
   "id": "69bc06de",
   "metadata": {},
   "outputs": [
    {
     "data": {
      "text/plain": [
       "[1] TRUE"
      ]
     },
     "execution_count": null,
     "metadata": {},
     "output_type": "execute_result"
    }
   ],
   "source": [
    "# Logical operators\n",
    "# & (ampersand) - means and, | (pipe) means or\n",
    "\n",
    "T & T"
   ]
  },
  {
   "cell_type": "code",
   "execution_count": 98,
   "id": "e696288e",
   "metadata": {},
   "outputs": [
    {
     "data": {
      "text/plain": [
       "[1] FALSE"
      ]
     },
     "execution_count": null,
     "metadata": {},
     "output_type": "execute_result"
    }
   ],
   "source": [
    "T & F"
   ]
  },
  {
   "cell_type": "code",
   "execution_count": 99,
   "id": "c92070a3",
   "metadata": {},
   "outputs": [
    {
     "data": {
      "text/plain": [
       "[1] FALSE"
      ]
     },
     "execution_count": null,
     "metadata": {},
     "output_type": "execute_result"
    }
   ],
   "source": [
    "F & F"
   ]
  },
  {
   "cell_type": "code",
   "execution_count": 100,
   "id": "fb6e70c9",
   "metadata": {},
   "outputs": [
    {
     "data": {
      "text/plain": [
       "[1] TRUE"
      ]
     },
     "execution_count": null,
     "metadata": {},
     "output_type": "execute_result"
    }
   ],
   "source": [
    "T | T"
   ]
  },
  {
   "cell_type": "code",
   "execution_count": 101,
   "id": "fd80b265",
   "metadata": {},
   "outputs": [
    {
     "data": {
      "text/plain": [
       "[1] TRUE"
      ]
     },
     "execution_count": null,
     "metadata": {},
     "output_type": "execute_result"
    }
   ],
   "source": [
    "T | F"
   ]
  },
  {
   "cell_type": "code",
   "execution_count": 102,
   "id": "0817d974",
   "metadata": {},
   "outputs": [
    {
     "data": {
      "text/plain": [
       "[1] FALSE"
      ]
     },
     "execution_count": null,
     "metadata": {},
     "output_type": "execute_result"
    }
   ],
   "source": [
    "F | F "
   ]
  },
  {
   "cell_type": "code",
   "execution_count": 18,
   "id": "b6337052",
   "metadata": {},
   "outputs": [],
   "source": [
    "# Special symbols\n",
    "# $ for accesing members of a list\n",
    "# : for range of numbers\n",
    "# tidyverse operators %>% or |>, `` for names of variables that contain spaces"
   ]
  },
  {
   "cell_type": "code",
   "execution_count": 15,
   "id": "45183ffb",
   "metadata": {},
   "outputs": [],
   "source": [
    "# Operator precedence\n",
    "# PEMDAS AKA BODMAS\n",
    "# Parenthesis > Exponents > Multiplication and Division > Addition and Subtraction"
   ]
  },
  {
   "cell_type": "code",
   "execution_count": 16,
   "id": "08533c1d",
   "metadata": {},
   "outputs": [
    {
     "data": {
      "text/plain": [
       "[1] 1.6"
      ]
     },
     "execution_count": null,
     "metadata": {},
     "output_type": "execute_result"
    }
   ],
   "source": [
    "8 / (3 + 2)"
   ]
  },
  {
   "cell_type": "code",
   "execution_count": 17,
   "id": "135d9a12",
   "metadata": {},
   "outputs": [
    {
     "data": {
      "text/plain": [
       "[1] 4.666667"
      ]
     },
     "execution_count": null,
     "metadata": {},
     "output_type": "execute_result"
    }
   ],
   "source": [
    "8 / 3 + 2"
   ]
  },
  {
   "cell_type": "code",
   "execution_count": 5,
   "id": "d72d6f41",
   "metadata": {},
   "outputs": [],
   "source": [
    "# Mathematical operators and vectors\n",
    "\n",
    "vec1 <- c(1, 2, 3, 4)\n",
    "vec2 <- c(5, 4, 1, 8)"
   ]
  },
  {
   "cell_type": "code",
   "execution_count": 20,
   "id": "8bfff384",
   "metadata": {},
   "outputs": [
    {
     "data": {
      "text/plain": [
       "[1] 5 6 7 8"
      ]
     },
     "execution_count": null,
     "metadata": {},
     "output_type": "execute_result"
    }
   ],
   "source": [
    "vec1 + 4"
   ]
  },
  {
   "cell_type": "code",
   "execution_count": 21,
   "id": "6d5f4789",
   "metadata": {},
   "outputs": [
    {
     "data": {
      "text/plain": [
       "[1] 0.5 1.0 1.5 2.0"
      ]
     },
     "execution_count": null,
     "metadata": {},
     "output_type": "execute_result"
    }
   ],
   "source": [
    "vec1  / 2"
   ]
  },
  {
   "cell_type": "code",
   "execution_count": 22,
   "id": "a5b1a549",
   "metadata": {},
   "outputs": [
    {
     "data": {
      "text/plain": [
       "[1]  6  6  4 12"
      ]
     },
     "execution_count": null,
     "metadata": {},
     "output_type": "execute_result"
    }
   ],
   "source": [
    "vec1 + vec2"
   ]
  },
  {
   "cell_type": "code",
   "execution_count": 23,
   "id": "ebddb15a",
   "metadata": {},
   "outputs": [
    {
     "data": {
      "text/plain": [
       "[1] FALSE FALSE FALSE  TRUE"
      ]
     },
     "execution_count": null,
     "metadata": {},
     "output_type": "execute_result"
    }
   ],
   "source": [
    "vec1 == 4"
   ]
  },
  {
   "cell_type": "code",
   "execution_count": 25,
   "id": "284fd4ad",
   "metadata": {},
   "outputs": [
    {
     "data": {
      "text/plain": [
       "[1] 1"
      ]
     },
     "execution_count": null,
     "metadata": {},
     "output_type": "execute_result"
    }
   ],
   "source": [
    "sum(as.numeric(vec1 == 4))"
   ]
  },
  {
   "cell_type": "code",
   "execution_count": 29,
   "id": "b3227034",
   "metadata": {},
   "outputs": [
    {
     "data": {
      "text/plain": [
       "[1] 2"
      ]
     },
     "execution_count": null,
     "metadata": {},
     "output_type": "execute_result"
    }
   ],
   "source": [
    "sum(vec1 %% 2)"
   ]
  },
  {
   "cell_type": "code",
   "execution_count": 31,
   "id": "b5a0cc4a",
   "metadata": {},
   "outputs": [
    {
     "data": {
      "text/plain": [
       "[1]  TRUE FALSE  TRUE FALSE"
      ]
     },
     "execution_count": null,
     "metadata": {},
     "output_type": "execute_result"
    }
   ],
   "source": [
    "vec1 %% 2 == 1"
   ]
  },
  {
   "cell_type": "code",
   "execution_count": 32,
   "id": "f4595a77",
   "metadata": {},
   "outputs": [
    {
     "data": {
      "text/plain": [
       " [1] 98 82 93 97 91 94 94 96 92 91 91 90"
      ]
     },
     "execution_count": null,
     "metadata": {},
     "output_type": "execute_result"
    }
   ],
   "source": [
    "scores"
   ]
  },
  {
   "cell_type": "code",
   "execution_count": 35,
   "id": "3242f67e",
   "metadata": {},
   "outputs": [
    {
     "data": {
      "text/plain": [
       "[1] 3"
      ]
     },
     "execution_count": null,
     "metadata": {},
     "output_type": "execute_result"
    }
   ],
   "source": [
    "sum(as.numeric(scores > 95))"
   ]
  },
  {
   "cell_type": "code",
   "execution_count": 37,
   "id": "744117a0",
   "metadata": {},
   "outputs": [
    {
     "data": {
      "text/plain": [
       "[1] 3"
      ]
     },
     "execution_count": null,
     "metadata": {},
     "output_type": "execute_result"
    }
   ],
   "source": [
    "sum(scores >= 95)"
   ]
  },
  {
   "cell_type": "code",
   "execution_count": 6,
   "id": "1dad78f0",
   "metadata": {},
   "outputs": [],
   "source": [
    "details = list(name='Lara', location='UK', children=c('Taiwo', 'Kehinde'), childrens_ages=c(3,3), knows_data=T)"
   ]
  },
  {
   "cell_type": "code",
   "execution_count": 40,
   "id": "3cec71c4",
   "metadata": {},
   "outputs": [
    {
     "data": {
      "text/plain": [
       "$name\n",
       "[1] \"Lara\"\n",
       "\n",
       "$location\n",
       "[1] \"UK\"\n",
       "\n",
       "$children\n",
       "[1] \"Taiwo\"   \"Kehinde\"\n",
       "\n",
       "$childrens_ages\n",
       "[1] 3 3\n",
       "\n",
       "$knows_data\n",
       "[1] TRUE\n"
      ]
     },
     "execution_count": null,
     "metadata": {},
     "output_type": "execute_result"
    }
   ],
   "source": [
    "details"
   ]
  },
  {
   "cell_type": "code",
   "execution_count": null,
   "id": "19e1b951",
   "metadata": {},
   "outputs": [
    {
     "data": {
      "text/plain": [
       "[1] \"Lara\""
      ]
     },
     "execution_count": null,
     "metadata": {},
     "output_type": "execute_result"
    }
   ],
   "source": [
    "# the $ operatoe allows access to items in a list\n",
    "details$name"
   ]
  },
  {
   "cell_type": "code",
   "execution_count": 42,
   "id": "7e995308",
   "metadata": {},
   "outputs": [
    {
     "data": {
      "text/plain": [
       "[1] \"Taiwo\"   \"Kehinde\""
      ]
     },
     "execution_count": null,
     "metadata": {},
     "output_type": "execute_result"
    }
   ],
   "source": [
    "details$children"
   ]
  },
  {
   "cell_type": "code",
   "execution_count": 44,
   "id": "22ea4567",
   "metadata": {},
   "outputs": [
    {
     "data": {
      "text/plain": [
       "[1] 3 3"
      ]
     },
     "execution_count": null,
     "metadata": {},
     "output_type": "execute_result"
    }
   ],
   "source": [
    "details$childrens_ages"
   ]
  },
  {
   "cell_type": "code",
   "execution_count": 45,
   "id": "0e905cd0",
   "metadata": {},
   "outputs": [
    {
     "data": {
      "text/plain": [
       "[1] TRUE"
      ]
     },
     "execution_count": null,
     "metadata": {},
     "output_type": "execute_result"
    }
   ],
   "source": [
    "details$knows_data"
   ]
  },
  {
   "cell_type": "code",
   "execution_count": 46,
   "id": "6fce84c2",
   "metadata": {},
   "outputs": [
    {
     "data": {
      "text/plain": [
       " [1]  1  2  3  4  5  6  7  8  9 10"
      ]
     },
     "execution_count": null,
     "metadata": {},
     "output_type": "execute_result"
    }
   ],
   "source": [
    "#the : range operator\n",
    "c(1, 2, 3, 4, 5, 6, 7, 8, 9, 10)"
   ]
  },
  {
   "cell_type": "code",
   "execution_count": 47,
   "id": "e9bb5204",
   "metadata": {},
   "outputs": [
    {
     "data": {
      "text/plain": [
       " [1]  1  2  3  4  5  6  7  8  9 10"
      ]
     },
     "execution_count": null,
     "metadata": {},
     "output_type": "execute_result"
    }
   ],
   "source": [
    "1:10"
   ]
  },
  {
   "cell_type": "code",
   "execution_count": 48,
   "id": "d9645392",
   "metadata": {},
   "outputs": [
    {
     "data": {
      "text/plain": [
       "  [1]   1   2   3   4   5   6   7   8   9  10  11  12  13  14  15  16  17  18  19  20  21  22  23  24  25  26  27  28  29  30\n",
       " [31]  31  32  33  34  35  36  37  38  39  40  41  42  43  44  45  46  47  48  49  50  51  52  53  54  55  56  57  58  59  60\n",
       " [61]  61  62  63  64  65  66  67  68  69  70  71  72  73  74  75  76  77  78  79  80  81  82  83  84  85  86  87  88  89  90\n",
       " [91]  91  92  93  94  95  96  97  98  99 100"
      ]
     },
     "execution_count": null,
     "metadata": {},
     "output_type": "execute_result"
    }
   ],
   "source": [
    "1:100"
   ]
  },
  {
   "cell_type": "code",
   "execution_count": 50,
   "id": "84df7464",
   "metadata": {},
   "outputs": [
    {
     "data": {
      "text/plain": [
       "   [1]    1    2    3    4    5    6    7    8    9   10   11   12   13   14   15   16   17   18   19   20   21   22   23\n",
       "  [24]   24   25   26   27   28   29   30   31   32   33   34   35   36   37   38   39   40   41   42   43   44   45   46\n",
       "  [47]   47   48   49   50   51   52   53   54   55   56   57   58   59   60   61   62   63   64   65   66   67   68   69\n",
       "  [70]   70   71   72   73   74   75   76   77   78   79   80   81   82   83   84   85   86   87   88   89   90   91   92\n",
       "  [93]   93   94   95   96   97   98   99  100  101  102  103  104  105  106  107  108  109  110  111  112  113  114  115\n",
       " [116]  116  117  118  119  120  121  122  123  124  125  126  127  128  129  130  131  132  133  134  135  136  137  138\n",
       " [139]  139  140  141  142  143  144  145  146  147  148  149  150  151  152  153  154  155  156  157  158  159  160  161\n",
       " [162]  162  163  164  165  166  167  168  169  170  171  172  173  174  175  176  177  178  179  180  181  182  183  184\n",
       " [185]  185  186  187  188  189  190  191  192  193  194  195  196  197  198  199  200  201  202  203  204  205  206  207\n",
       " [208]  208  209  210  211  212  213  214  215  216  217  218  219  220  221  222  223  224  225  226  227  228  229  230\n",
       " [231]  231  232  233  234  235  236  237  238  239  240  241  242  243  244  245  246  247  248  249  250  251  252  253\n",
       " [254]  254  255  256  257  258  259  260  261  262  263  264  265  266  267  268  269  270  271  272  273  274  275  276\n",
       " [277]  277  278  279  280  281  282  283  284  285  286  287  288  289  290  291  292  293  294  295  296  297  298  299\n",
       " [300]  300  301  302  303  304  305  306  307  308  309  310  311  312  313  314  315  316  317  318  319  320  321  322\n",
       " [323]  323  324  325  326  327  328  329  330  331  332  333  334  335  336  337  338  339  340  341  342  343  344  345\n",
       " [346]  346  347  348  349  350  351  352  353  354  355  356  357  358  359  360  361  362  363  364  365  366  367  368\n",
       " [369]  369  370  371  372  373  374  375  376  377  378  379  380  381  382  383  384  385  386  387  388  389  390  391\n",
       " [392]  392  393  394  395  396  397  398  399  400  401  402  403  404  405  406  407  408  409  410  411  412  413  414\n",
       " [415]  415  416  417  418  419  420  421  422  423  424  425  426  427  428  429  430  431  432  433  434  435  436  437\n",
       " [438]  438  439  440  441  442  443  444  445  446  447  448  449  450  451  452  453  454  455  456  457  458  459  460\n",
       " [461]  461  462  463  464  465  466  467  468  469  470  471  472  473  474  475  476  477  478  479  480  481  482  483\n",
       " [484]  484  485  486  487  488  489  490  491  492  493  494  495  496  497  498  499  500  501  502  503  504  505  506\n",
       " [507]  507  508  509  510  511  512  513  514  515  516  517  518  519  520  521  522  523  524  525  526  527  528  529\n",
       " [530]  530  531  532  533  534  535  536  537  538  539  540  541  542  543  544  545  546  547  548  549  550  551  552\n",
       " [553]  553  554  555  556  557  558  559  560  561  562  563  564  565  566  567  568  569  570  571  572  573  574  575\n",
       " [576]  576  577  578  579  580  581  582  583  584  585  586  587  588  589  590  591  592  593  594  595  596  597  598\n",
       " [599]  599  600  601  602  603  604  605  606  607  608  609  610  611  612  613  614  615  616  617  618  619  620  621\n",
       " [622]  622  623  624  625  626  627  628  629  630  631  632  633  634  635  636  637  638  639  640  641  642  643  644\n",
       " [645]  645  646  647  648  649  650  651  652  653  654  655  656  657  658  659  660  661  662  663  664  665  666  667\n",
       " [668]  668  669  670  671  672  673  674  675  676  677  678  679  680  681  682  683  684  685  686  687  688  689  690\n",
       " [691]  691  692  693  694  695  696  697  698  699  700  701  702  703  704  705  706  707  708  709  710  711  712  713\n",
       " [714]  714  715  716  717  718  719  720  721  722  723  724  725  726  727  728  729  730  731  732  733  734  735  736\n",
       " [737]  737  738  739  740  741  742  743  744  745  746  747  748  749  750  751  752  753  754  755  756  757  758  759\n",
       " [760]  760  761  762  763  764  765  766  767  768  769  770  771  772  773  774  775  776  777  778  779  780  781  782\n",
       " [783]  783  784  785  786  787  788  789  790  791  792  793  794  795  796  797  798  799  800  801  802  803  804  805\n",
       " [806]  806  807  808  809  810  811  812  813  814  815  816  817  818  819  820  821  822  823  824  825  826  827  828\n",
       " [829]  829  830  831  832  833  834  835  836  837  838  839  840  841  842  843  844  845  846  847  848  849  850  851\n",
       " [852]  852  853  854  855  856  857  858  859  860  861  862  863  864  865  866  867  868  869  870  871  872  873  874\n",
       " [875]  875  876  877  878  879  880  881  882  883  884  885  886  887  888  889  890  891  892  893  894  895  896  897\n",
       " [898]  898  899  900  901  902  903  904  905  906  907  908  909  910  911  912  913  914  915  916  917  918  919  920\n",
       " [921]  921  922  923  924  925  926  927  928  929  930  931  932  933  934  935  936  937  938  939  940  941  942  943\n",
       " [944]  944  945  946  947  948  949  950  951  952  953  954  955  956  957  958  959  960  961  962  963  964  965  966\n",
       " [967]  967  968  969  970  971  972  973  974  975  976  977  978  979  980  981  982  983  984  985  986  987  988  989\n",
       " [990]  990  991  992  993  994  995  996  997  998  999 1000"
      ]
     },
     "execution_count": null,
     "metadata": {},
     "output_type": "execute_result"
    }
   ],
   "source": [
    "1:1000"
   ]
  },
  {
   "cell_type": "code",
   "execution_count": 51,
   "id": "a8dcfc9d",
   "metadata": {},
   "outputs": [
    {
     "data": {
      "text/plain": [
       "[1] 2 3 4 5 6 7"
      ]
     },
     "execution_count": null,
     "metadata": {},
     "output_type": "execute_result"
    }
   ],
   "source": [
    "2:7"
   ]
  },
  {
   "cell_type": "code",
   "execution_count": 52,
   "id": "30105483",
   "metadata": {},
   "outputs": [
    {
     "data": {
      "text/plain": [
       " [1] -4 -3 -2 -1  0  1  2  3  4  5  6"
      ]
     },
     "execution_count": null,
     "metadata": {},
     "output_type": "execute_result"
    }
   ],
   "source": [
    "-4:6"
   ]
  },
  {
   "cell_type": "code",
   "execution_count": 53,
   "id": "d59d6749",
   "metadata": {},
   "outputs": [
    {
     "data": {
      "text/plain": [
       "[1]  4  3  2  1  0 -1"
      ]
     },
     "execution_count": null,
     "metadata": {},
     "output_type": "execute_result"
    }
   ],
   "source": [
    "4:-1"
   ]
  },
  {
   "cell_type": "code",
   "execution_count": 54,
   "id": "2c457386",
   "metadata": {},
   "outputs": [
    {
     "data": {
      "text/plain": [
       " [1]  1  2  3  4  5  6  7  8  9 10 11 12 13 14 15 16 17 18 19 20"
      ]
     },
     "execution_count": null,
     "metadata": {},
     "output_type": "execute_result"
    }
   ],
   "source": [
    "1:20"
   ]
  },
  {
   "cell_type": "code",
   "execution_count": 58,
   "id": "38ff5ce3",
   "metadata": {},
   "outputs": [
    {
     "data": {
      "text/plain": [
       "[1] 1 3 5 7 9"
      ]
     },
     "execution_count": null,
     "metadata": {},
     "output_type": "execute_result"
    }
   ],
   "source": [
    "#the seq funcgtion has more options than just in sequence and provides steps- seq(start, stop, skip)\n",
    "seq(1, 10, 2)"
   ]
  },
  {
   "cell_type": "code",
   "execution_count": 62,
   "id": "099ececc",
   "metadata": {},
   "outputs": [
    {
     "data": {
      "text/plain": [
       "  [1]   0   9  18  27  36  45  54  63  72  81  90  99 108 117 126 135 144 153 162 171 180 189 198 207 216 225 234 243 252 261\n",
       " [31] 270 279 288 297 306 315 324 333 342 351 360 369 378 387 396 405 414 423 432 441 450 459 468 477 486 495 504 513 522 531\n",
       " [61] 540 549 558 567 576 585 594 603 612 621 630 639 648 657 666 675 684 693 702 711 720 729 738 747 756 765 774 783 792 801\n",
       " [91] 810 819 828 837 846 855 864 873 882 891 900 909 918 927 936 945 954 963 972 981 990 999"
      ]
     },
     "execution_count": null,
     "metadata": {},
     "output_type": "execute_result"
    }
   ],
   "source": [
    "seq(0, 1000, 9)"
   ]
  },
  {
   "cell_type": "code",
   "execution_count": 67,
   "id": "baabdd7b",
   "metadata": {},
   "outputs": [
    {
     "name": "stdout",
     "output_type": "stream",
     "text": [
      "[1] 93\n"
     ]
    }
   ],
   "source": [
    "#indexing and slicing\n",
    "#indexing \n",
    "#anything with one or more dimensions can be indexed\n",
    "\n",
    "#vectors\n",
    "print(scores[3])\n",
    "\n"
   ]
  },
  {
   "cell_type": "code",
   "execution_count": 68,
   "id": "5de1992c",
   "metadata": {},
   "outputs": [
    {
     "data": {
      "text/plain": [
       " [1] 98 82 93 97 91 94 94 96 92 91 91 90"
      ]
     },
     "execution_count": null,
     "metadata": {},
     "output_type": "execute_result"
    }
   ],
   "source": [
    "scores"
   ]
  },
  {
   "cell_type": "code",
   "execution_count": 70,
   "id": "4b567112",
   "metadata": {},
   "outputs": [
    {
     "data": {
      "text/plain": [
       "[1] 90"
      ]
     },
     "execution_count": null,
     "metadata": {},
     "output_type": "execute_result"
    }
   ],
   "source": [
    "scores[12]"
   ]
  },
  {
   "cell_type": "code",
   "execution_count": 71,
   "id": "dedd553d",
   "metadata": {},
   "outputs": [
    {
     "data": {
      "text/plain": [
       "[1] 12"
      ]
     },
     "execution_count": null,
     "metadata": {},
     "output_type": "execute_result"
    }
   ],
   "source": [
    "length(scores)"
   ]
  },
  {
   "cell_type": "code",
   "execution_count": null,
   "id": "08d1190e",
   "metadata": {},
   "outputs": [
    {
     "data": {
      "text/plain": [
       "[1] 91"
      ]
     },
     "execution_count": null,
     "metadata": {},
     "output_type": "execute_result"
    }
   ],
   "source": [
    "#last score\n",
    "scores[length(scores)]"
   ]
  },
  {
   "cell_type": "code",
   "execution_count": 74,
   "id": "cd30f74e",
   "metadata": {},
   "outputs": [
    {
     "data": {
      "text/plain": [
       "[1] 91"
      ]
     },
     "execution_count": null,
     "metadata": {},
     "output_type": "execute_result"
    }
   ],
   "source": [
    "#second to last score\n",
    "scores[length(scores) - 1]"
   ]
  },
  {
   "cell_type": "code",
   "execution_count": 75,
   "id": "ce2458a5",
   "metadata": {},
   "outputs": [
    {
     "data": {
      "text/plain": [
       "[1] \"Mango\"    \"Guava\"    \"Cashew\"   \"Agbalumo\""
      ]
     },
     "execution_count": null,
     "metadata": {},
     "output_type": "execute_result"
    }
   ],
   "source": [
    "fruits"
   ]
  },
  {
   "cell_type": "code",
   "execution_count": 76,
   "id": "8a6066a7",
   "metadata": {},
   "outputs": [
    {
     "data": {
      "text/plain": [
       "[1] \"Guava\""
      ]
     },
     "execution_count": null,
     "metadata": {},
     "output_type": "execute_result"
    }
   ],
   "source": [
    "fruits[2]"
   ]
  },
  {
   "cell_type": "code",
   "execution_count": 7,
   "id": "020d3fea",
   "metadata": {},
   "outputs": [],
   "source": [
    "#matrix indexing\n",
    "mat1 <- matrix(1:24, nrow=4)"
   ]
  },
  {
   "cell_type": "code",
   "execution_count": 81,
   "id": "3010aa41",
   "metadata": {},
   "outputs": [
    {
     "data": {
      "text/plain": [
       "     [,1] [,2] [,3] [,4] [,5] [,6]\n",
       "[1,]    1    5    9   13   17   21\n",
       "[2,]    2    6   10   14   18   22\n",
       "[3,]    3    7   11   15   19   23\n",
       "[4,]    4    8   12   16   20   24"
      ]
     },
     "execution_count": null,
     "metadata": {},
     "output_type": "execute_result"
    }
   ],
   "source": [
    "mat1"
   ]
  },
  {
   "cell_type": "code",
   "execution_count": 82,
   "id": "54e47bf3",
   "metadata": {},
   "outputs": [
    {
     "data": {
      "text/plain": [
       "[1] 14"
      ]
     },
     "execution_count": null,
     "metadata": {},
     "output_type": "execute_result"
    }
   ],
   "source": [
    "mat1[2,4]"
   ]
  },
  {
   "cell_type": "code",
   "execution_count": 83,
   "id": "b81e481a",
   "metadata": {},
   "outputs": [
    {
     "data": {
      "text/plain": [
       "[1] 16"
      ]
     },
     "execution_count": null,
     "metadata": {},
     "output_type": "execute_result"
    }
   ],
   "source": [
    "mat1[4,4]"
   ]
  },
  {
   "cell_type": "code",
   "execution_count": 84,
   "id": "bfd9d2f9",
   "metadata": {},
   "outputs": [
    {
     "data": {
      "text/plain": [
       "[1] \"Taiwo\"   \"Kehinde\""
      ]
     },
     "execution_count": null,
     "metadata": {},
     "output_type": "execute_result"
    }
   ],
   "source": [
    "#indexing lists we use the $ as already shown\n",
    "details$children"
   ]
  },
  {
   "cell_type": "code",
   "execution_count": 86,
   "id": "b481b080",
   "metadata": {},
   "outputs": [
    {
     "data": {
      "text/plain": [
       "[1] \"Taiwo\""
      ]
     },
     "execution_count": null,
     "metadata": {},
     "output_type": "execute_result"
    }
   ],
   "source": [
    "details$children[1]"
   ]
  },
  {
   "cell_type": "code",
   "execution_count": 88,
   "id": "12391d1e",
   "metadata": {},
   "outputs": [
    {
     "data": {
      "text/plain": [
       " [1] 98 82 93 97 91 94 94 96 92 91 91 90"
      ]
     },
     "execution_count": null,
     "metadata": {},
     "output_type": "execute_result"
    }
   ],
   "source": [
    "#slicing\n",
    "# vectors\n",
    "scores"
   ]
  },
  {
   "cell_type": "code",
   "execution_count": 89,
   "id": "736a1cd1",
   "metadata": {},
   "outputs": [
    {
     "data": {
      "text/plain": [
       "[1] 98 82 93"
      ]
     },
     "execution_count": null,
     "metadata": {},
     "output_type": "execute_result"
    }
   ],
   "source": [
    "scores[c(1,2,3)]"
   ]
  },
  {
   "cell_type": "code",
   "execution_count": 90,
   "id": "19cae81f",
   "metadata": {},
   "outputs": [
    {
     "data": {
      "text/plain": [
       "[1] 97 91 94 94 96 92"
      ]
     },
     "execution_count": null,
     "metadata": {},
     "output_type": "execute_result"
    }
   ],
   "source": [
    "scores[c(4,5,6,7,8,9)]"
   ]
  },
  {
   "cell_type": "code",
   "execution_count": 91,
   "id": "229e1381",
   "metadata": {},
   "outputs": [
    {
     "data": {
      "text/plain": [
       "[1] 98 82 93"
      ]
     },
     "execution_count": null,
     "metadata": {},
     "output_type": "execute_result"
    }
   ],
   "source": [
    "scores[1:3]"
   ]
  },
  {
   "cell_type": "code",
   "execution_count": 92,
   "id": "ef87810b",
   "metadata": {},
   "outputs": [
    {
     "data": {
      "text/plain": [
       "[1] 97 91 94 94 96 92"
      ]
     },
     "execution_count": null,
     "metadata": {},
     "output_type": "execute_result"
    }
   ],
   "source": [
    "scores[4:9]"
   ]
  },
  {
   "cell_type": "code",
   "execution_count": 93,
   "id": "f158bc66",
   "metadata": {},
   "outputs": [
    {
     "data": {
      "text/plain": [
       "[1] NA"
      ]
     },
     "execution_count": null,
     "metadata": {},
     "output_type": "execute_result"
    }
   ],
   "source": [
    "scores[20]"
   ]
  },
  {
   "cell_type": "code",
   "execution_count": 94,
   "id": "0be46f71",
   "metadata": {},
   "outputs": [
    {
     "data": {
      "text/plain": [
       " [1] 98 82 93 97 91 94 94 96 92 91 91 90"
      ]
     },
     "execution_count": null,
     "metadata": {},
     "output_type": "execute_result"
    }
   ],
   "source": [
    "scores"
   ]
  },
  {
   "cell_type": "code",
   "execution_count": 96,
   "id": "c458632d",
   "metadata": {},
   "outputs": [
    {
     "data": {
      "text/plain": [
       "[1] 98 82 93"
      ]
     },
     "execution_count": null,
     "metadata": {},
     "output_type": "execute_result"
    }
   ],
   "source": [
    "scores[c(T, T, T, F, F, F, F, F, F, F, F, F)]"
   ]
  },
  {
   "cell_type": "code",
   "execution_count": 99,
   "id": "1ae3f425",
   "metadata": {},
   "outputs": [
    {
     "data": {
      "text/plain": [
       "[1] 97 91 94 94 96 92"
      ]
     },
     "execution_count": null,
     "metadata": {},
     "output_type": "execute_result"
    }
   ],
   "source": [
    "scores[c(F, F, F, T, T, T, T, T, T, F, F, F)]"
   ]
  },
  {
   "cell_type": "code",
   "execution_count": 100,
   "id": "c07523c4",
   "metadata": {},
   "outputs": [
    {
     "data": {
      "text/plain": [
       " [1]  TRUE FALSE FALSE  TRUE FALSE FALSE FALSE  TRUE FALSE FALSE FALSE FALSE"
      ]
     },
     "execution_count": null,
     "metadata": {},
     "output_type": "execute_result"
    }
   ],
   "source": [
    "scores > 95"
   ]
  },
  {
   "cell_type": "code",
   "execution_count": 101,
   "id": "1f8283fc",
   "metadata": {},
   "outputs": [
    {
     "data": {
      "text/plain": [
       "[1] 98 97 96"
      ]
     },
     "execution_count": null,
     "metadata": {},
     "output_type": "execute_result"
    }
   ],
   "source": [
    "scores[scores > 95]"
   ]
  },
  {
   "cell_type": "code",
   "execution_count": 102,
   "id": "dd6a095e",
   "metadata": {},
   "outputs": [
    {
     "data": {
      "text/plain": [
       "[1] 82"
      ]
     },
     "execution_count": null,
     "metadata": {},
     "output_type": "execute_result"
    }
   ],
   "source": [
    "scores[scores < 90]"
   ]
  },
  {
   "cell_type": "code",
   "execution_count": 103,
   "id": "d2d5e85f",
   "metadata": {},
   "outputs": [
    {
     "data": {
      "text/plain": [
       " [1]  TRUE FALSE FALSE  TRUE FALSE FALSE FALSE  TRUE FALSE FALSE FALSE FALSE"
      ]
     },
     "execution_count": null,
     "metadata": {},
     "output_type": "execute_result"
    }
   ],
   "source": [
    "#how many people scors > 95\n",
    "scores > 95"
   ]
  },
  {
   "cell_type": "code",
   "execution_count": 104,
   "id": "9ab64ffb",
   "metadata": {},
   "outputs": [
    {
     "data": {
      "text/plain": [
       "[1] 98 97 96"
      ]
     },
     "execution_count": null,
     "metadata": {},
     "output_type": "execute_result"
    }
   ],
   "source": [
    "scores[scores > 95]"
   ]
  },
  {
   "cell_type": "code",
   "execution_count": 105,
   "id": "c66f8af2",
   "metadata": {},
   "outputs": [
    {
     "data": {
      "text/plain": [
       "[1] 3"
      ]
     },
     "execution_count": null,
     "metadata": {},
     "output_type": "execute_result"
    }
   ],
   "source": [
    "length(scores[scores > 95])"
   ]
  },
  {
   "cell_type": "code",
   "execution_count": 106,
   "id": "8fd9ab1d",
   "metadata": {},
   "outputs": [
    {
     "data": {
      "text/plain": [
       "[1] 98 82 93"
      ]
     },
     "execution_count": null,
     "metadata": {},
     "output_type": "execute_result"
    }
   ],
   "source": [
    "scores[1:3]"
   ]
  },
  {
   "cell_type": "code",
   "execution_count": 107,
   "id": "b89be2cc",
   "metadata": {},
   "outputs": [
    {
     "data": {
      "text/plain": [
       " [1] FALSE FALSE  TRUE  TRUE  TRUE FALSE FALSE FALSE FALSE  TRUE  TRUE FALSE"
      ]
     },
     "execution_count": null,
     "metadata": {},
     "output_type": "execute_result"
    }
   ],
   "source": [
    "scores %% 2 == 1"
   ]
  },
  {
   "cell_type": "code",
   "execution_count": null,
   "id": "ba114ef2",
   "metadata": {},
   "outputs": [
    {
     "data": {
      "text/plain": [
       "[1] 93 97 91 91 91"
      ]
     },
     "execution_count": null,
     "metadata": {},
     "output_type": "execute_result"
    }
   ],
   "source": [
    "#odd numbeer scores\n",
    "scores[scores %% 2 == 1]"
   ]
  },
  {
   "cell_type": "code",
   "execution_count": 11,
   "id": "9d958979",
   "metadata": {},
   "outputs": [
    {
     "data": {
      "text/plain": [
       " [1] 98 82 93 97 91 94 94 96 92 91 91 90"
      ]
     },
     "execution_count": null,
     "metadata": {},
     "output_type": "execute_result"
    }
   ],
   "source": [
    "scores"
   ]
  },
  {
   "cell_type": "code",
   "execution_count": 17,
   "id": "3a0b7939",
   "metadata": {},
   "outputs": [
    {
     "data": {
      "text/plain": [
       "[1] 98 93 91 94 92 91"
      ]
     },
     "execution_count": null,
     "metadata": {},
     "output_type": "execute_result"
    }
   ],
   "source": [
    "#every other score\n",
    "scores[seq(1, length(scores), 2)]"
   ]
  },
  {
   "cell_type": "code",
   "execution_count": 18,
   "id": "6e9b0d2f",
   "metadata": {},
   "outputs": [
    {
     "data": {
      "text/plain": [
       " [1] 82 90 91 91 91 92 93 94 94 96 97 98"
      ]
     },
     "execution_count": null,
     "metadata": {},
     "output_type": "execute_result"
    }
   ],
   "source": [
    "#ordering \n",
    "scores[order(scores)]"
   ]
  },
  {
   "cell_type": "code",
   "execution_count": 22,
   "id": "9fa0cf39",
   "metadata": {},
   "outputs": [
    {
     "data": {
      "text/plain": [
       " [1] 98 97 96 94 94 93 92 91 91 91 90 82"
      ]
     },
     "execution_count": null,
     "metadata": {},
     "output_type": "execute_result"
    }
   ],
   "source": [
    "#order in reverse\n",
    "scores[order(scores, decreasing = T)]"
   ]
  },
  {
   "cell_type": "code",
   "execution_count": null,
   "id": "adcdbf55",
   "metadata": {},
   "outputs": [],
   "source": [
    "#the ? operator lets you access help files. And R has awesome documentation built in\n",
    "?order"
   ]
  },
  {
   "cell_type": "code",
   "execution_count": 23,
   "id": "805c88c0",
   "metadata": {},
   "outputs": [
    {
     "data": {
      "text/plain": [
       "     [,1] [,2] [,3] [,4] [,5] [,6]\n",
       "[1,]    1    5    9   13   17   21\n",
       "[2,]    2    6   10   14   18   22\n",
       "[3,]    3    7   11   15   19   23\n",
       "[4,]    4    8   12   16   20   24"
      ]
     },
     "execution_count": null,
     "metadata": {},
     "output_type": "execute_result"
    }
   ],
   "source": [
    "#slicing matrices\n",
    "\n",
    "mat1"
   ]
  },
  {
   "cell_type": "code",
   "execution_count": 24,
   "id": "de02c162",
   "metadata": {},
   "outputs": [
    {
     "data": {
      "text/plain": [
       "[1]  1  5  9 13 17 21"
      ]
     },
     "execution_count": null,
     "metadata": {},
     "output_type": "execute_result"
    }
   ],
   "source": [
    "#row 1 only. dont specify coliumns!\n",
    "mat1[1,]"
   ]
  },
  {
   "cell_type": "code",
   "execution_count": 25,
   "id": "bab2d0b5",
   "metadata": {},
   "outputs": [
    {
     "data": {
      "text/plain": [
       "[1]  3  7 11 15 19 23"
      ]
     },
     "execution_count": null,
     "metadata": {},
     "output_type": "execute_result"
    }
   ],
   "source": [
    "mat1[3,]"
   ]
  },
  {
   "cell_type": "code",
   "execution_count": 26,
   "id": "93c63c56",
   "metadata": {},
   "outputs": [
    {
     "data": {
      "text/plain": [
       "[1] 13 14 15 16"
      ]
     },
     "execution_count": null,
     "metadata": {},
     "output_type": "execute_result"
    }
   ],
   "source": [
    "#column slicing is exact opposits\n",
    "mat1[,4]"
   ]
  },
  {
   "cell_type": "code",
   "execution_count": null,
   "id": "9da3ad9c",
   "metadata": {},
   "outputs": [
    {
     "data": {
      "text/plain": [
       "     [,1] [,2] [,3]\n",
       "[1,]   14   18   22\n",
       "[2,]   15   19   23\n",
       "[3,]   16   20   24"
      ]
     },
     "execution_count": null,
     "metadata": {},
     "output_type": "execute_result"
    }
   ],
   "source": [
    "#slicing squares\n",
    "mat1[2:4, 4:6]"
   ]
  },
  {
   "cell_type": "code",
   "execution_count": 28,
   "id": "54813aaa",
   "metadata": {},
   "outputs": [
    {
     "data": {
      "text/plain": [
       "     [,1] [,2]\n",
       "[1,]    5    9\n",
       "[2,]    6   10"
      ]
     },
     "execution_count": null,
     "metadata": {},
     "output_type": "execute_result"
    }
   ],
   "source": [
    "mat1[1:2,2:3]"
   ]
  },
  {
   "cell_type": "code",
   "execution_count": null,
   "id": "00246589",
   "metadata": {},
   "outputs": [],
   "source": [
    "# Control structure -> logic ie if and else, loops ie for loops"
   ]
  }
 ],
 "metadata": {
  "language_info": {
   "name": "r"
  }
 },
 "nbformat": 4,
 "nbformat_minor": 5
}
